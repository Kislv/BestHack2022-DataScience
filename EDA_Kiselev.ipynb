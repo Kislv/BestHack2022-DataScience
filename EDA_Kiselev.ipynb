{
  "nbformat": 4,
  "nbformat_minor": 0,
  "metadata": {
    "colab": {
      "provenance": [],
      "collapsed_sections": []
    },
    "kernelspec": {
      "name": "python3",
      "display_name": "Python 3"
    },
    "language_info": {
      "name": "python"
    }
  },
  "cells": [
    {
      "cell_type": "markdown",
      "source": [
        "## **EDA | Разведочный анализ данных**"
      ],
      "metadata": {
        "id": "P-pvmB9OSlKv"
      }
    },
    {
      "cell_type": "markdown",
      "source": [
        "## Диаграмма nan-ов\n"
      ],
      "metadata": {
        "id": "ShOF0VtiSffR"
      }
    },
    {
      "cell_type": "code",
      "source": [
        "print(data.isna().mean())\n",
        "fig = data.isna().mean().hist().get_figure()\n"
      ],
      "metadata": {
        "colab": {
          "base_uri": "https://localhost:8080/",
          "height": 190
        },
        "id": "Nga9-x89LSG8",
        "outputId": "e7fa41f8-e2ac-415c-876d-2c521655fb59"
      },
      "execution_count": null,
      "outputs": [
        {
          "output_type": "error",
          "ename": "NameError",
          "evalue": "ignored",
          "traceback": [
            "\u001b[0;31m---------------------------------------------------------------------------\u001b[0m",
            "\u001b[0;31mNameError\u001b[0m                                 Traceback (most recent call last)",
            "\u001b[0;32m<ipython-input-1-e6686e087f8d>\u001b[0m in \u001b[0;36m<module>\u001b[0;34m\u001b[0m\n\u001b[0;32m----> 1\u001b[0;31m \u001b[0mprint\u001b[0m\u001b[0;34m(\u001b[0m\u001b[0mdata\u001b[0m\u001b[0;34m.\u001b[0m\u001b[0misna\u001b[0m\u001b[0;34m(\u001b[0m\u001b[0;34m)\u001b[0m\u001b[0;34m.\u001b[0m\u001b[0mmean\u001b[0m\u001b[0;34m(\u001b[0m\u001b[0;34m)\u001b[0m\u001b[0;34m)\u001b[0m\u001b[0;34m\u001b[0m\u001b[0;34m\u001b[0m\u001b[0m\n\u001b[0m\u001b[1;32m      2\u001b[0m \u001b[0mfig\u001b[0m \u001b[0;34m=\u001b[0m \u001b[0mdata\u001b[0m\u001b[0;34m.\u001b[0m\u001b[0misna\u001b[0m\u001b[0;34m(\u001b[0m\u001b[0;34m)\u001b[0m\u001b[0;34m.\u001b[0m\u001b[0mmean\u001b[0m\u001b[0;34m(\u001b[0m\u001b[0;34m)\u001b[0m\u001b[0;34m.\u001b[0m\u001b[0mhist\u001b[0m\u001b[0;34m(\u001b[0m\u001b[0;34m)\u001b[0m\u001b[0;34m.\u001b[0m\u001b[0mget_figure\u001b[0m\u001b[0;34m(\u001b[0m\u001b[0;34m)\u001b[0m\u001b[0;34m\u001b[0m\u001b[0;34m\u001b[0m\u001b[0m\n",
            "\u001b[0;31mNameError\u001b[0m: name 'data' is not defined"
          ]
        }
      ]
    },
    {
      "cell_type": "markdown",
      "source": [
        "## Распределение звонков по локальному времени\n"
      ],
      "metadata": {
        "id": "D-erkU1TL4fy"
      }
    },
    {
      "cell_type": "code",
      "source": [
        "hours_distributions = data['start_time_local'].str.slice(0, 2).astype(int)\n",
        "fig = hours_distributions.hist().get_figure()"
      ],
      "metadata": {
        "id": "Mkx12wFnL63R"
      },
      "execution_count": null,
      "outputs": []
    },
    {
      "cell_type": "markdown",
      "source": [
        "## Распределение звонков по UTC:"
      ],
      "metadata": {
        "id": "dcynvDIvMEoi"
      }
    },
    {
      "cell_type": "code",
      "source": [
        "hours_distributions_UTS = hours_distributions - data['time_zone'].astype(int)\n",
        "fig = hours_distributions_UTS.hist().get_figure()"
      ],
      "metadata": {
        "id": "E0Z5da6dMJ0W"
      },
      "execution_count": null,
      "outputs": []
    },
    {
      "cell_type": "markdown",
      "metadata": {
        "id": "bwXywlBFFbg0"
      },
      "source": [
        "<div class=\"alert alert-warning\", style=\"border:solid coral 3px; padding: 20px\">\n",
        "    <font size=\"4\", color=\"DimGrey\"><b>⚠️ Комментарий ревьюера</b></font>\n",
        "    <br><br>\n",
        "    <font size=\"3\", color=\"black\">\n",
        "        Опять же такие исследования нужно делать в EDA и с графиками\n",
        "    </font>\n",
        "<div>"
      ]
    },
    {
      "cell_type": "markdown",
      "metadata": {
        "id": "cYTma3HetDHT"
      },
      "source": [
        "**Посмотрим на распределение фичей**"
      ]
    },
    {
      "cell_type": "code",
      "execution_count": null,
      "metadata": {
        "colab": {
          "base_uri": "https://localhost:8080/"
        },
        "id": "_FjrmlOlRtqa",
        "outputId": "d6fff400-5e8c-4764-f58c-4f7305c0bd8d"
      },
      "outputs": [
        {
          "name": "stdout",
          "output_type": "stream",
          "text": [
            "id_a DISTRIBUTION\n",
            "6325350     83876\n",
            "1741727     57082\n",
            "51817902    29324\n",
            "52273536    14414\n",
            "41812796    13194\n",
            "            ...  \n",
            "86860220        1\n",
            "74125608        1\n",
            "83911581        1\n",
            "59139935        1\n",
            "28340953        1\n",
            "Name: id_a, Length: 7674, dtype: int64\n",
            "id_b DISTRIBUTION\n",
            "5137773     6455\n",
            "67511626     601\n",
            "7055569      531\n",
            "70502169     468\n",
            "3969649      321\n",
            "            ... \n",
            "77280372       1\n",
            "20626593       1\n",
            "62125950       1\n",
            "57264240       1\n",
            "1038323        1\n",
            "Name: id_b, Length: 372359, dtype: int64\n",
            "time_zone DISTRIBUTION\n",
            " 3     247375\n",
            " 0     144898\n",
            " 4      10257\n",
            " 2       7877\n",
            " 7       5202\n",
            " 5        921\n",
            " 1        454\n",
            " 8        185\n",
            "-1        130\n",
            " 10       101\n",
            " 6         41\n",
            " 9         17\n",
            " 11        13\n",
            " 12         5\n",
            "Name: time_zone, dtype: int64\n",
            "forward DISTRIBUTION\n",
            "0.0    378913\n",
            "1.0     38563\n",
            "Name: forward, dtype: int64\n",
            "zero_call_flg DISTRIBUTION\n",
            "0.0    237350\n",
            "5.0    147149\n",
            "2.0     10803\n",
            "1.0      9568\n",
            "3.0      9325\n",
            "4.0      3281\n",
            "Name: zero_call_flg, dtype: int64\n",
            "source_b DISTRIBUTION\n",
            "0.0    320419\n",
            "1.0     97057\n",
            "Name: source_b, dtype: int64\n",
            "source_f DISTRIBUTION\n",
            "1.0    352319\n",
            "0.0     65157\n",
            "Name: source_f, dtype: int64\n"
          ]
        }
      ],
      "source": [
        "for col in cat_cols:\n",
        "    print(f\"{col} DISTRIBUTION\")\n",
        "    print(data[col].value_counts())\n"
      ]
    },
    {
      "cell_type": "markdown",
      "metadata": {
        "id": "Bo56GOA-XkYs"
      },
      "source": [
        "**Визуализируем распределение категориальных фичей**"
      ]
    },
    {
      "cell_type": "markdown",
      "metadata": {
        "id": "sIg2Vp3Ijjuj"
      },
      "source": [
        "Распределение часовых зон:\n"
      ]
    },
    {
      "cell_type": "code",
      "execution_count": null,
      "metadata": {
        "colab": {
          "base_uri": "https://localhost:8080/",
          "height": 265
        },
        "id": "K4ZLGh_UXjkb",
        "outputId": "cd437094-f3f2-4ac0-97b9-31bb0032d8f9"
      },
      "outputs": [
        {
          "data": {
            "image/png": "[encoded data removed]",
            "text/plain": [
              "<Figure size 432x288 with 1 Axes>"
            ]
          },
          "metadata": {
            "needs_background": "light"
          },
          "output_type": "display_data"
        }
      ],
      "source": [
        "\n",
        "h = data['time_zone'].hist()\n",
        "fig = h.get_figure()"
      ]
    },
    {
      "cell_type": "markdown",
      "metadata": {
        "id": "5FR6DYeOj_Vq"
      },
      "source": [
        "Распределение категории звонка с нулевой длительностью:"
      ]
    },
    {
      "cell_type": "code",
      "execution_count": null,
      "metadata": {
        "colab": {
          "base_uri": "https://localhost:8080/",
          "height": 265
        },
        "id": "pmdsx3dVkOrQ",
        "outputId": "5da0a8ca-4bb1-4e9f-f295-29d57e5541e3"
      },
      "outputs": [
        {
          "data": {
            "image/png": "[encoded data removed]",
            "text/plain": [
              "<Figure size 432x288 with 1 Axes>"
            ]
          },
          "metadata": {
            "needs_background": "light"
          },
          "output_type": "display_data"
        }
      ],
      "source": [
        "h = data['zero_call_flg'].hist()\n",
        "fig = h.get_figure()"
      ]
    },
    {
      "cell_type": "markdown",
      "metadata": {
        "id": "5aHAKw42y00E"
      },
      "source": [
        "**Столбцы в таблице целевых переменных**"
      ]
    },
    {
      "cell_type": "code",
      "execution_count": null,
      "metadata": {
        "colab": {
          "base_uri": "https://localhost:8080/"
        },
        "id": "n4Ords6By9hb",
        "outputId": "01d888fa-9e93-4cef-eaf7-bea6061071de"
      },
      "outputs": [
        {
          "name": "stdout",
          "output_type": "stream",
          "text": [
            "id DISTRIBUTION\n",
            "196535      1\n",
            "40982206    1\n",
            "25798719    1\n",
            "19050882    1\n",
            "17647619    1\n",
            "           ..\n",
            "23760948    1\n",
            "78393782    1\n",
            "75174874    1\n",
            "23157851    1\n",
            "12483388    1\n",
            "Name: id, Length: 46235, dtype: int64\n",
            "target DISTRIBUTION\n",
            "0.0    16344\n",
            "4.0     9966\n",
            "2.0     6697\n",
            "3.0     2012\n",
            "1.0     1923\n",
            "Name: target, dtype: int64\n",
            "split DISTRIBUTION\n",
            "train    36942\n",
            "test      9293\n",
            "Name: split, dtype: int64\n"
          ]
        }
      ],
      "source": [
        "target_cols = ['id','target','split']\n",
        "for col in target_cols:\n",
        "    print(f\"{col} DISTRIBUTION\")\n",
        "    print(samples[col].value_counts())"
      ]
    },
    {
      "cell_type": "markdown",
      "metadata": {
        "id": "lGUG6A3vybzk"
      },
      "source": [
        "**Визуализация распределения целевых переменных**"
      ]
    },
    {
      "cell_type": "code",
      "execution_count": null,
      "metadata": {
        "colab": {
          "base_uri": "https://localhost:8080/",
          "height": 265
        },
        "id": "M3VCIGi91AXE",
        "outputId": "b0d504cd-b609-4d79-a127-6942036c20d9"
      },
      "outputs": [
        {
          "data": {
            "image/png": "[encoded data removed]",
            "text/plain": [
              "<Figure size 432x288 with 1 Axes>"
            ]
          },
          "metadata": {
            "needs_background": "light"
          },
          "output_type": "display_data"
        }
      ],
      "source": [
        "h = samples['target'].hist()\n",
        "fig = h.get_figure()"
      ]
    }
  ]
}