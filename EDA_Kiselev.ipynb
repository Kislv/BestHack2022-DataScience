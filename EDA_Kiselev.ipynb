{
  "nbformat": 4,
  "nbformat_minor": 0,
  "metadata": {
    "colab": {
      "provenance": [],
      "collapsed_sections": []
    },
    "kernelspec": {
      "name": "python3",
      "display_name": "Python 3"
    },
    "language_info": {
      "name": "python"
    }
  },
  "cells": [
    {
      "cell_type": "markdown",
      "source": [
        "## **EDA | Разведочный анализ данных**"
      ],
      "metadata": {
        "id": "P-pvmB9OSlKv"
      }
    },
    {
      "cell_type": "code",
      "source": [
        "import pandas as pd\n",
        "from datetime import datetime\n",
        "from dateutil.parser import parse\n",
        "from sklearn.model_selection import train_test_split\n",
        "from sklearn.tree import DecisionTreeClassifier \n",
        "from sklearn import metrics \n",
        "from matplotlib import pyplot as plt\n",
        "from sklearn import tree\n",
        "from sklearn.model_selection import GridSearchCV\n",
        "import graphviz \n",
        "from sklearn.ensemble import VotingClassifier\n",
        "import os\n"
      ],
      "metadata": {
        "id": "JrVO1vAjHEi7"
      },
      "execution_count": 26,
      "outputs": []
    },
    {
      "cell_type": "code",
      "source": [
        "path = ''\n",
        "samples_path = os.path.join(path, \"data\", \"beeline_antispam_hakaton_id_samples.csv\")\n",
        "samples = pd.read_csv(samples_path)\n",
        "samples.head()"
      ],
      "metadata": {
        "colab": {
          "base_uri": "https://localhost:8080/",
          "height": 206
        },
        "id": "sD6vEWelHHzK",
        "outputId": "f037654b-677c-462f-9418-3d43b77f651c"
      },
      "execution_count": 27,
      "outputs": [
        {
          "output_type": "execute_result",
          "data": {
            "text/plain": [
              "         id  target  split\n",
              "0    196535     NaN   test\n",
              "1  63075900     2.0  train\n",
              "2  35233935     2.0  train\n",
              "3  23557360     4.0  train\n",
              "4  78926486     NaN   test"
            ],
            "text/html": [
              "\n",
              "  <div id=\"df-aa06fde3-5c1c-4983-b22f-d819da262973\">\n",
              "    <div class=\"colab-df-container\">\n",
              "      <div>\n",
              "<style scoped>\n",
              "    .dataframe tbody tr th:only-of-type {\n",
              "        vertical-align: middle;\n",
              "    }\n",
              "\n",
              "    .dataframe tbody tr th {\n",
              "        vertical-align: top;\n",
              "    }\n",
              "\n",
              "    .dataframe thead th {\n",
              "        text-align: right;\n",
              "    }\n",
              "</style>\n",
              "<table border=\"1\" class=\"dataframe\">\n",
              "  <thead>\n",
              "    <tr style=\"text-align: right;\">\n",
              "      <th></th>\n",
              "      <th>id</th>\n",
              "      <th>target</th>\n",
              "      <th>split</th>\n",
              "    </tr>\n",
              "  </thead>\n",
              "  <tbody>\n",
              "    <tr>\n",
              "      <th>0</th>\n",
              "      <td>196535</td>\n",
              "      <td>NaN</td>\n",
              "      <td>test</td>\n",
              "    </tr>\n",
              "    <tr>\n",
              "      <th>1</th>\n",
              "      <td>63075900</td>\n",
              "      <td>2.0</td>\n",
              "      <td>train</td>\n",
              "    </tr>\n",
              "    <tr>\n",
              "      <th>2</th>\n",
              "      <td>35233935</td>\n",
              "      <td>2.0</td>\n",
              "      <td>train</td>\n",
              "    </tr>\n",
              "    <tr>\n",
              "      <th>3</th>\n",
              "      <td>23557360</td>\n",
              "      <td>4.0</td>\n",
              "      <td>train</td>\n",
              "    </tr>\n",
              "    <tr>\n",
              "      <th>4</th>\n",
              "      <td>78926486</td>\n",
              "      <td>NaN</td>\n",
              "      <td>test</td>\n",
              "    </tr>\n",
              "  </tbody>\n",
              "</table>\n",
              "</div>\n",
              "      <button class=\"colab-df-convert\" onclick=\"convertToInteractive('df-aa06fde3-5c1c-4983-b22f-d819da262973')\"\n",
              "              title=\"Convert this dataframe to an interactive table.\"\n",
              "              style=\"display:none;\">\n",
              "        \n",
              "  <svg xmlns=\"http://www.w3.org/2000/svg\" height=\"24px\"viewBox=\"0 0 24 24\"\n",
              "       width=\"24px\">\n",
              "    <path d=\"M0 0h24v24H0V0z\" fill=\"none\"/>\n",
              "    <path d=\"M18.56 5.44l.94 2.06.94-2.06 2.06-.94-2.06-.94-.94-2.06-.94 2.06-2.06.94zm-11 1L8.5 8.5l.94-2.06 2.06-.94-2.06-.94L8.5 2.5l-.94 2.06-2.06.94zm10 10l.94 2.06.94-2.06 2.06-.94-2.06-.94-.94-2.06-.94 2.06-2.06.94z\"/><path d=\"M17.41 7.96l-1.37-1.37c-.4-.4-.92-.59-1.43-.59-.52 0-1.04.2-1.43.59L10.3 9.45l-7.72 7.72c-.78.78-.78 2.05 0 2.83L4 21.41c.39.39.9.59 1.41.59.51 0 1.02-.2 1.41-.59l7.78-7.78 2.81-2.81c.8-.78.8-2.07 0-2.86zM5.41 20L4 18.59l7.72-7.72 1.47 1.35L5.41 20z\"/>\n",
              "  </svg>\n",
              "      </button>\n",
              "      \n",
              "  <style>\n",
              "    .colab-df-container {\n",
              "      display:flex;\n",
              "      flex-wrap:wrap;\n",
              "      gap: 12px;\n",
              "    }\n",
              "\n",
              "    .colab-df-convert {\n",
              "      background-color: #E8F0FE;\n",
              "      border: none;\n",
              "      border-radius: 50%;\n",
              "      cursor: pointer;\n",
              "      display: none;\n",
              "      fill: #1967D2;\n",
              "      height: 32px;\n",
              "      padding: 0 0 0 0;\n",
              "      width: 32px;\n",
              "    }\n",
              "\n",
              "    .colab-df-convert:hover {\n",
              "      background-color: #E2EBFA;\n",
              "      box-shadow: 0px 1px 2px rgba(60, 64, 67, 0.3), 0px 1px 3px 1px rgba(60, 64, 67, 0.15);\n",
              "      fill: #174EA6;\n",
              "    }\n",
              "\n",
              "    [theme=dark] .colab-df-convert {\n",
              "      background-color: #3B4455;\n",
              "      fill: #D2E3FC;\n",
              "    }\n",
              "\n",
              "    [theme=dark] .colab-df-convert:hover {\n",
              "      background-color: #434B5C;\n",
              "      box-shadow: 0px 1px 3px 1px rgba(0, 0, 0, 0.15);\n",
              "      filter: drop-shadow(0px 1px 2px rgba(0, 0, 0, 0.3));\n",
              "      fill: #FFFFFF;\n",
              "    }\n",
              "  </style>\n",
              "\n",
              "      <script>\n",
              "        const buttonEl =\n",
              "          document.querySelector('#df-aa06fde3-5c1c-4983-b22f-d819da262973 button.colab-df-convert');\n",
              "        buttonEl.style.display =\n",
              "          google.colab.kernel.accessAllowed ? 'block' : 'none';\n",
              "\n",
              "        async function convertToInteractive(key) {\n",
              "          const element = document.querySelector('#df-aa06fde3-5c1c-4983-b22f-d819da262973');\n",
              "          const dataTable =\n",
              "            await google.colab.kernel.invokeFunction('convertToInteractive',\n",
              "                                                     [key], {});\n",
              "          if (!dataTable) return;\n",
              "\n",
              "          const docLinkHtml = 'Like what you see? Visit the ' +\n",
              "            '<a target=\"_blank\" href=https://colab.research.google.com/notebooks/data_table.ipynb>data table notebook</a>'\n",
              "            + ' to learn more about interactive tables.';\n",
              "          element.innerHTML = '';\n",
              "          dataTable['output_type'] = 'display_data';\n",
              "          await google.colab.output.renderOutput(dataTable, element);\n",
              "          const docLink = document.createElement('div');\n",
              "          docLink.innerHTML = docLinkHtml;\n",
              "          element.appendChild(docLink);\n",
              "        }\n",
              "      </script>\n",
              "    </div>\n",
              "  </div>\n",
              "  "
            ]
          },
          "metadata": {},
          "execution_count": 27
        }
      ]
    },
    {
      "cell_type": "code",
      "execution_count": 28,
      "metadata": {
        "colab": {
          "base_uri": "https://localhost:8080/",
          "height": 206
        },
        "outputId": "3c9d9d1d-ef1e-4782-a230-c9ed85b08424",
        "id": "GqxzV_iuITXa"
      },
      "outputs": [
        {
          "output_type": "execute_result",
          "data": {
            "text/plain": [
              "       id_a      id_b start_time_local  time_zone  duration  forward  \\\n",
              "0  67596082  43588153         18:43:03          3         0        0   \n",
              "1   4024969  67656553         11:43:20          4       206        0   \n",
              "2  43166780  31861625         10:32:36          0         5        0   \n",
              "3  51817902  41201237         13:45:02          3         0        0   \n",
              "4  41812796   4932754         13:53:12          0         0        0   \n",
              "\n",
              "   zero_call_flg  source_b  source_f  num_b_length    time_key  \n",
              "0              3         0         1            10  2021-11-01  \n",
              "1              5         1         0            10  2021-11-01  \n",
              "2              0         0         1            10  2021-11-01  \n",
              "3              0         0         1            10  2021-11-01  \n",
              "4              5         0         1            10  2021-11-01  "
            ],
            "text/html": [
              "\n",
              "  <div id=\"df-fbe5a2f0-398e-47d8-a24e-58f9a996f615\">\n",
              "    <div class=\"colab-df-container\">\n",
              "      <div>\n",
              "<style scoped>\n",
              "    .dataframe tbody tr th:only-of-type {\n",
              "        vertical-align: middle;\n",
              "    }\n",
              "\n",
              "    .dataframe tbody tr th {\n",
              "        vertical-align: top;\n",
              "    }\n",
              "\n",
              "    .dataframe thead th {\n",
              "        text-align: right;\n",
              "    }\n",
              "</style>\n",
              "<table border=\"1\" class=\"dataframe\">\n",
              "  <thead>\n",
              "    <tr style=\"text-align: right;\">\n",
              "      <th></th>\n",
              "      <th>id_a</th>\n",
              "      <th>id_b</th>\n",
              "      <th>start_time_local</th>\n",
              "      <th>time_zone</th>\n",
              "      <th>duration</th>\n",
              "      <th>forward</th>\n",
              "      <th>zero_call_flg</th>\n",
              "      <th>source_b</th>\n",
              "      <th>source_f</th>\n",
              "      <th>num_b_length</th>\n",
              "      <th>time_key</th>\n",
              "    </tr>\n",
              "  </thead>\n",
              "  <tbody>\n",
              "    <tr>\n",
              "      <th>0</th>\n",
              "      <td>67596082</td>\n",
              "      <td>43588153</td>\n",
              "      <td>18:43:03</td>\n",
              "      <td>3</td>\n",
              "      <td>0</td>\n",
              "      <td>0</td>\n",
              "      <td>3</td>\n",
              "      <td>0</td>\n",
              "      <td>1</td>\n",
              "      <td>10</td>\n",
              "      <td>2021-11-01</td>\n",
              "    </tr>\n",
              "    <tr>\n",
              "      <th>1</th>\n",
              "      <td>4024969</td>\n",
              "      <td>67656553</td>\n",
              "      <td>11:43:20</td>\n",
              "      <td>4</td>\n",
              "      <td>206</td>\n",
              "      <td>0</td>\n",
              "      <td>5</td>\n",
              "      <td>1</td>\n",
              "      <td>0</td>\n",
              "      <td>10</td>\n",
              "      <td>2021-11-01</td>\n",
              "    </tr>\n",
              "    <tr>\n",
              "      <th>2</th>\n",
              "      <td>43166780</td>\n",
              "      <td>31861625</td>\n",
              "      <td>10:32:36</td>\n",
              "      <td>0</td>\n",
              "      <td>5</td>\n",
              "      <td>0</td>\n",
              "      <td>0</td>\n",
              "      <td>0</td>\n",
              "      <td>1</td>\n",
              "      <td>10</td>\n",
              "      <td>2021-11-01</td>\n",
              "    </tr>\n",
              "    <tr>\n",
              "      <th>3</th>\n",
              "      <td>51817902</td>\n",
              "      <td>41201237</td>\n",
              "      <td>13:45:02</td>\n",
              "      <td>3</td>\n",
              "      <td>0</td>\n",
              "      <td>0</td>\n",
              "      <td>0</td>\n",
              "      <td>0</td>\n",
              "      <td>1</td>\n",
              "      <td>10</td>\n",
              "      <td>2021-11-01</td>\n",
              "    </tr>\n",
              "    <tr>\n",
              "      <th>4</th>\n",
              "      <td>41812796</td>\n",
              "      <td>4932754</td>\n",
              "      <td>13:53:12</td>\n",
              "      <td>0</td>\n",
              "      <td>0</td>\n",
              "      <td>0</td>\n",
              "      <td>5</td>\n",
              "      <td>0</td>\n",
              "      <td>1</td>\n",
              "      <td>10</td>\n",
              "      <td>2021-11-01</td>\n",
              "    </tr>\n",
              "  </tbody>\n",
              "</table>\n",
              "</div>\n",
              "      <button class=\"colab-df-convert\" onclick=\"convertToInteractive('df-fbe5a2f0-398e-47d8-a24e-58f9a996f615')\"\n",
              "              title=\"Convert this dataframe to an interactive table.\"\n",
              "              style=\"display:none;\">\n",
              "        \n",
              "  <svg xmlns=\"http://www.w3.org/2000/svg\" height=\"24px\"viewBox=\"0 0 24 24\"\n",
              "       width=\"24px\">\n",
              "    <path d=\"M0 0h24v24H0V0z\" fill=\"none\"/>\n",
              "    <path d=\"M18.56 5.44l.94 2.06.94-2.06 2.06-.94-2.06-.94-.94-2.06-.94 2.06-2.06.94zm-11 1L8.5 8.5l.94-2.06 2.06-.94-2.06-.94L8.5 2.5l-.94 2.06-2.06.94zm10 10l.94 2.06.94-2.06 2.06-.94-2.06-.94-.94-2.06-.94 2.06-2.06.94z\"/><path d=\"M17.41 7.96l-1.37-1.37c-.4-.4-.92-.59-1.43-.59-.52 0-1.04.2-1.43.59L10.3 9.45l-7.72 7.72c-.78.78-.78 2.05 0 2.83L4 21.41c.39.39.9.59 1.41.59.51 0 1.02-.2 1.41-.59l7.78-7.78 2.81-2.81c.8-.78.8-2.07 0-2.86zM5.41 20L4 18.59l7.72-7.72 1.47 1.35L5.41 20z\"/>\n",
              "  </svg>\n",
              "      </button>\n",
              "      \n",
              "  <style>\n",
              "    .colab-df-container {\n",
              "      display:flex;\n",
              "      flex-wrap:wrap;\n",
              "      gap: 12px;\n",
              "    }\n",
              "\n",
              "    .colab-df-convert {\n",
              "      background-color: #E8F0FE;\n",
              "      border: none;\n",
              "      border-radius: 50%;\n",
              "      cursor: pointer;\n",
              "      display: none;\n",
              "      fill: #1967D2;\n",
              "      height: 32px;\n",
              "      padding: 0 0 0 0;\n",
              "      width: 32px;\n",
              "    }\n",
              "\n",
              "    .colab-df-convert:hover {\n",
              "      background-color: #E2EBFA;\n",
              "      box-shadow: 0px 1px 2px rgba(60, 64, 67, 0.3), 0px 1px 3px 1px rgba(60, 64, 67, 0.15);\n",
              "      fill: #174EA6;\n",
              "    }\n",
              "\n",
              "    [theme=dark] .colab-df-convert {\n",
              "      background-color: #3B4455;\n",
              "      fill: #D2E3FC;\n",
              "    }\n",
              "\n",
              "    [theme=dark] .colab-df-convert:hover {\n",
              "      background-color: #434B5C;\n",
              "      box-shadow: 0px 1px 3px 1px rgba(0, 0, 0, 0.15);\n",
              "      filter: drop-shadow(0px 1px 2px rgba(0, 0, 0, 0.3));\n",
              "      fill: #FFFFFF;\n",
              "    }\n",
              "  </style>\n",
              "\n",
              "      <script>\n",
              "        const buttonEl =\n",
              "          document.querySelector('#df-fbe5a2f0-398e-47d8-a24e-58f9a996f615 button.colab-df-convert');\n",
              "        buttonEl.style.display =\n",
              "          google.colab.kernel.accessAllowed ? 'block' : 'none';\n",
              "\n",
              "        async function convertToInteractive(key) {\n",
              "          const element = document.querySelector('#df-fbe5a2f0-398e-47d8-a24e-58f9a996f615');\n",
              "          const dataTable =\n",
              "            await google.colab.kernel.invokeFunction('convertToInteractive',\n",
              "                                                     [key], {});\n",
              "          if (!dataTable) return;\n",
              "\n",
              "          const docLinkHtml = 'Like what you see? Visit the ' +\n",
              "            '<a target=\"_blank\" href=https://colab.research.google.com/notebooks/data_table.ipynb>data table notebook</a>'\n",
              "            + ' to learn more about interactive tables.';\n",
              "          element.innerHTML = '';\n",
              "          dataTable['output_type'] = 'display_data';\n",
              "          await google.colab.output.renderOutput(dataTable, element);\n",
              "          const docLink = document.createElement('div');\n",
              "          docLink.innerHTML = docLinkHtml;\n",
              "          element.appendChild(docLink);\n",
              "        }\n",
              "      </script>\n",
              "    </div>\n",
              "  </div>\n",
              "  "
            ]
          },
          "metadata": {},
          "execution_count": 28
        }
      ],
      "source": [
        "data_path = os.path.join(path, 'data', 'time_key=2021-11-01.csv')\n",
        "data = pd.read_csv(data_path)\n",
        "data.head()            "
      ]
    },
    {
      "cell_type": "markdown",
      "metadata": {
        "id": "jZ4C6X2VknQw"
      },
      "source": [
        "\n",
        "Посмотрим на пропущенные значения и уберем их при необходимости"
      ]
    },
    {
      "cell_type": "code",
      "source": [
        "data.dropna(inplace=True)"
      ],
      "metadata": {
        "id": "70--CuHQKop2"
      },
      "execution_count": 29,
      "outputs": []
    },
    {
      "cell_type": "code",
      "source": [
        "samples.info()"
      ],
      "metadata": {
        "colab": {
          "base_uri": "https://localhost:8080/"
        },
        "id": "N8EhjwZbIDtx",
        "outputId": "2edae29f-e896-4e79-cc8f-c98bf641d73f"
      },
      "execution_count": 30,
      "outputs": [
        {
          "output_type": "stream",
          "name": "stdout",
          "text": [
            "<class 'pandas.core.frame.DataFrame'>\n",
            "RangeIndex: 46235 entries, 0 to 46234\n",
            "Data columns (total 3 columns):\n",
            " #   Column  Non-Null Count  Dtype  \n",
            "---  ------  --------------  -----  \n",
            " 0   id      46235 non-null  int64  \n",
            " 1   target  36942 non-null  float64\n",
            " 2   split   46235 non-null  object \n",
            "dtypes: float64(1), int64(1), object(1)\n",
            "memory usage: 1.1+ MB\n"
          ]
        }
      ]
    },
    {
      "cell_type": "code",
      "execution_count": 31,
      "metadata": {
        "colab": {
          "base_uri": "https://localhost:8080/",
          "height": 206
        },
        "id": "wDWStDu2rTi0",
        "outputId": "087e83e2-bb14-4e48-cdd0-6f49748c1ae9"
      },
      "outputs": [
        {
          "output_type": "execute_result",
          "data": {
            "text/plain": [
              "       id_a      id_b start_time_local  time_zone  duration  forward  \\\n",
              "0  67596082  43588153         18:43:03          3         0        0   \n",
              "1   4024969  67656553         11:43:20          4       206        0   \n",
              "2  43166780  31861625         10:32:36          0         5        0   \n",
              "3  51817902  41201237         13:45:02          3         0        0   \n",
              "4  41812796   4932754         13:53:12          0         0        0   \n",
              "\n",
              "   zero_call_flg  source_b  source_f  num_b_length    time_key  \n",
              "0              3         0         1            10  2021-11-01  \n",
              "1              5         1         0            10  2021-11-01  \n",
              "2              0         0         1            10  2021-11-01  \n",
              "3              0         0         1            10  2021-11-01  \n",
              "4              5         0         1            10  2021-11-01  "
            ],
            "text/html": [
              "\n",
              "  <div id=\"df-4adac1b0-a944-4d95-81be-22297a8ea34e\">\n",
              "    <div class=\"colab-df-container\">\n",
              "      <div>\n",
              "<style scoped>\n",
              "    .dataframe tbody tr th:only-of-type {\n",
              "        vertical-align: middle;\n",
              "    }\n",
              "\n",
              "    .dataframe tbody tr th {\n",
              "        vertical-align: top;\n",
              "    }\n",
              "\n",
              "    .dataframe thead th {\n",
              "        text-align: right;\n",
              "    }\n",
              "</style>\n",
              "<table border=\"1\" class=\"dataframe\">\n",
              "  <thead>\n",
              "    <tr style=\"text-align: right;\">\n",
              "      <th></th>\n",
              "      <th>id_a</th>\n",
              "      <th>id_b</th>\n",
              "      <th>start_time_local</th>\n",
              "      <th>time_zone</th>\n",
              "      <th>duration</th>\n",
              "      <th>forward</th>\n",
              "      <th>zero_call_flg</th>\n",
              "      <th>source_b</th>\n",
              "      <th>source_f</th>\n",
              "      <th>num_b_length</th>\n",
              "      <th>time_key</th>\n",
              "    </tr>\n",
              "  </thead>\n",
              "  <tbody>\n",
              "    <tr>\n",
              "      <th>0</th>\n",
              "      <td>67596082</td>\n",
              "      <td>43588153</td>\n",
              "      <td>18:43:03</td>\n",
              "      <td>3</td>\n",
              "      <td>0</td>\n",
              "      <td>0</td>\n",
              "      <td>3</td>\n",
              "      <td>0</td>\n",
              "      <td>1</td>\n",
              "      <td>10</td>\n",
              "      <td>2021-11-01</td>\n",
              "    </tr>\n",
              "    <tr>\n",
              "      <th>1</th>\n",
              "      <td>4024969</td>\n",
              "      <td>67656553</td>\n",
              "      <td>11:43:20</td>\n",
              "      <td>4</td>\n",
              "      <td>206</td>\n",
              "      <td>0</td>\n",
              "      <td>5</td>\n",
              "      <td>1</td>\n",
              "      <td>0</td>\n",
              "      <td>10</td>\n",
              "      <td>2021-11-01</td>\n",
              "    </tr>\n",
              "    <tr>\n",
              "      <th>2</th>\n",
              "      <td>43166780</td>\n",
              "      <td>31861625</td>\n",
              "      <td>10:32:36</td>\n",
              "      <td>0</td>\n",
              "      <td>5</td>\n",
              "      <td>0</td>\n",
              "      <td>0</td>\n",
              "      <td>0</td>\n",
              "      <td>1</td>\n",
              "      <td>10</td>\n",
              "      <td>2021-11-01</td>\n",
              "    </tr>\n",
              "    <tr>\n",
              "      <th>3</th>\n",
              "      <td>51817902</td>\n",
              "      <td>41201237</td>\n",
              "      <td>13:45:02</td>\n",
              "      <td>3</td>\n",
              "      <td>0</td>\n",
              "      <td>0</td>\n",
              "      <td>0</td>\n",
              "      <td>0</td>\n",
              "      <td>1</td>\n",
              "      <td>10</td>\n",
              "      <td>2021-11-01</td>\n",
              "    </tr>\n",
              "    <tr>\n",
              "      <th>4</th>\n",
              "      <td>41812796</td>\n",
              "      <td>4932754</td>\n",
              "      <td>13:53:12</td>\n",
              "      <td>0</td>\n",
              "      <td>0</td>\n",
              "      <td>0</td>\n",
              "      <td>5</td>\n",
              "      <td>0</td>\n",
              "      <td>1</td>\n",
              "      <td>10</td>\n",
              "      <td>2021-11-01</td>\n",
              "    </tr>\n",
              "  </tbody>\n",
              "</table>\n",
              "</div>\n",
              "      <button class=\"colab-df-convert\" onclick=\"convertToInteractive('df-4adac1b0-a944-4d95-81be-22297a8ea34e')\"\n",
              "              title=\"Convert this dataframe to an interactive table.\"\n",
              "              style=\"display:none;\">\n",
              "        \n",
              "  <svg xmlns=\"http://www.w3.org/2000/svg\" height=\"24px\"viewBox=\"0 0 24 24\"\n",
              "       width=\"24px\">\n",
              "    <path d=\"M0 0h24v24H0V0z\" fill=\"none\"/>\n",
              "    <path d=\"M18.56 5.44l.94 2.06.94-2.06 2.06-.94-2.06-.94-.94-2.06-.94 2.06-2.06.94zm-11 1L8.5 8.5l.94-2.06 2.06-.94-2.06-.94L8.5 2.5l-.94 2.06-2.06.94zm10 10l.94 2.06.94-2.06 2.06-.94-2.06-.94-.94-2.06-.94 2.06-2.06.94z\"/><path d=\"M17.41 7.96l-1.37-1.37c-.4-.4-.92-.59-1.43-.59-.52 0-1.04.2-1.43.59L10.3 9.45l-7.72 7.72c-.78.78-.78 2.05 0 2.83L4 21.41c.39.39.9.59 1.41.59.51 0 1.02-.2 1.41-.59l7.78-7.78 2.81-2.81c.8-.78.8-2.07 0-2.86zM5.41 20L4 18.59l7.72-7.72 1.47 1.35L5.41 20z\"/>\n",
              "  </svg>\n",
              "      </button>\n",
              "      \n",
              "  <style>\n",
              "    .colab-df-container {\n",
              "      display:flex;\n",
              "      flex-wrap:wrap;\n",
              "      gap: 12px;\n",
              "    }\n",
              "\n",
              "    .colab-df-convert {\n",
              "      background-color: #E8F0FE;\n",
              "      border: none;\n",
              "      border-radius: 50%;\n",
              "      cursor: pointer;\n",
              "      display: none;\n",
              "      fill: #1967D2;\n",
              "      height: 32px;\n",
              "      padding: 0 0 0 0;\n",
              "      width: 32px;\n",
              "    }\n",
              "\n",
              "    .colab-df-convert:hover {\n",
              "      background-color: #E2EBFA;\n",
              "      box-shadow: 0px 1px 2px rgba(60, 64, 67, 0.3), 0px 1px 3px 1px rgba(60, 64, 67, 0.15);\n",
              "      fill: #174EA6;\n",
              "    }\n",
              "\n",
              "    [theme=dark] .colab-df-convert {\n",
              "      background-color: #3B4455;\n",
              "      fill: #D2E3FC;\n",
              "    }\n",
              "\n",
              "    [theme=dark] .colab-df-convert:hover {\n",
              "      background-color: #434B5C;\n",
              "      box-shadow: 0px 1px 3px 1px rgba(0, 0, 0, 0.15);\n",
              "      filter: drop-shadow(0px 1px 2px rgba(0, 0, 0, 0.3));\n",
              "      fill: #FFFFFF;\n",
              "    }\n",
              "  </style>\n",
              "\n",
              "      <script>\n",
              "        const buttonEl =\n",
              "          document.querySelector('#df-4adac1b0-a944-4d95-81be-22297a8ea34e button.colab-df-convert');\n",
              "        buttonEl.style.display =\n",
              "          google.colab.kernel.accessAllowed ? 'block' : 'none';\n",
              "\n",
              "        async function convertToInteractive(key) {\n",
              "          const element = document.querySelector('#df-4adac1b0-a944-4d95-81be-22297a8ea34e');\n",
              "          const dataTable =\n",
              "            await google.colab.kernel.invokeFunction('convertToInteractive',\n",
              "                                                     [key], {});\n",
              "          if (!dataTable) return;\n",
              "\n",
              "          const docLinkHtml = 'Like what you see? Visit the ' +\n",
              "            '<a target=\"_blank\" href=https://colab.research.google.com/notebooks/data_table.ipynb>data table notebook</a>'\n",
              "            + ' to learn more about interactive tables.';\n",
              "          element.innerHTML = '';\n",
              "          dataTable['output_type'] = 'display_data';\n",
              "          await google.colab.output.renderOutput(dataTable, element);\n",
              "          const docLink = document.createElement('div');\n",
              "          docLink.innerHTML = docLinkHtml;\n",
              "          element.appendChild(docLink);\n",
              "        }\n",
              "      </script>\n",
              "    </div>\n",
              "  </div>\n",
              "  "
            ]
          },
          "metadata": {},
          "execution_count": 31
        }
      ],
      "source": [
        "data = pd.read_csv('./data/time_key=2021-11-01.csv')\n",
        "data.head()                  "
      ]
    },
    {
      "cell_type": "code",
      "source": [
        "data.info()"
      ],
      "metadata": {
        "colab": {
          "base_uri": "https://localhost:8080/"
        },
        "id": "mUG5FHv-IIdt",
        "outputId": "aaaedfd5-9483-498c-ddc2-1f4ca76d3652"
      },
      "execution_count": 32,
      "outputs": [
        {
          "output_type": "stream",
          "name": "stdout",
          "text": [
            "<class 'pandas.core.frame.DataFrame'>\n",
            "RangeIndex: 3987696 entries, 0 to 3987695\n",
            "Data columns (total 11 columns):\n",
            " #   Column            Dtype \n",
            "---  ------            ----- \n",
            " 0   id_a              int64 \n",
            " 1   id_b              int64 \n",
            " 2   start_time_local  object\n",
            " 3   time_zone         int64 \n",
            " 4   duration          int64 \n",
            " 5   forward           int64 \n",
            " 6   zero_call_flg     int64 \n",
            " 7   source_b          int64 \n",
            " 8   source_f          int64 \n",
            " 9   num_b_length      int64 \n",
            " 10  time_key          object\n",
            "dtypes: int64(9), object(2)\n",
            "memory usage: 334.7+ MB\n"
          ]
        }
      ]
    },
    {
      "cell_type": "markdown",
      "metadata": {
        "id": "-iBPKLYSSWih"
      },
      "source": [
        "Выделим фичи из датасета и поделим их на числовые и категориальные."
      ]
    },
    {
      "cell_type": "code",
      "execution_count": 33,
      "metadata": {
        "id": "gGTIueBySVdW"
      },
      "outputs": [],
      "source": [
        "num_cols = [\n",
        "    'start_time_local',\n",
        "    'duration',\n",
        "    'num_b_length',\n",
        "    'time_key'\n",
        "]\n",
        "\n",
        "cat_cols = [\n",
        "    'id_a',\n",
        "    'id_b',\n",
        "    'time_zone',\n",
        "    'forward',\n",
        "    'zero_call_flg',\n",
        "    'source_b',\n",
        "    'source_f',\n",
        "]\n",
        "\n",
        "cols = num_cols + cat_cols\n",
        "data = data[cols]\n"
      ]
    },
    {
      "cell_type": "markdown",
      "source": [
        "## Диаграмма nan-ов\n"
      ],
      "metadata": {
        "id": "ShOF0VtiSffR"
      }
    },
    {
      "cell_type": "code",
      "source": [
        "print(data.isna().mean())\n",
        "fig = data.isna().mean().hist().get_figure()"
      ],
      "metadata": {
        "colab": {
          "base_uri": "https://localhost:8080/",
          "height": 486
        },
        "id": "Nga9-x89LSG8",
        "outputId": "62e8aa4c-a232-43f6-956c-1291abc65700"
      },
      "execution_count": 34,
      "outputs": [
        {
          "output_type": "stream",
          "name": "stdout",
          "text": [
            "start_time_local    0.0\n",
            "duration            0.0\n",
            "num_b_length        0.0\n",
            "time_key            0.0\n",
            "id_a                0.0\n",
            "id_b                0.0\n",
            "time_zone           0.0\n",
            "forward             0.0\n",
            "zero_call_flg       0.0\n",
            "source_b            0.0\n",
            "source_f            0.0\n",
            "dtype: float64\n"
          ]
        },
        {
          "output_type": "display_data",
          "data": {
            "text/plain": [
              "<Figure size 432x288 with 1 Axes>"
            ],
            "image/png": "[encoded data removed]"
          },
          "metadata": {
            "needs_background": "light"
          }
        }
      ]
    },
    {
      "cell_type": "markdown",
      "source": [
        "## Распределение звонков по локальному времени\n"
      ],
      "metadata": {
        "id": "D-erkU1TL4fy"
      }
    },
    {
      "cell_type": "code",
      "source": [
        "hours_distributions = data['start_time_local'].str.slice(0, 2).astype(int)\n",
        "fig = hours_distributions.hist().get_figure()"
      ],
      "metadata": {
        "id": "Mkx12wFnL63R",
        "colab": {
          "base_uri": "https://localhost:8080/",
          "height": 276
        },
        "outputId": "0549a8fb-12ce-418a-b611-1e7f588f6df3"
      },
      "execution_count": 35,
      "outputs": [
        {
          "output_type": "display_data",
          "data": {
            "text/plain": [
              "<Figure size 432x288 with 1 Axes>"
            ],
            "image/png": "[encoded data removed]"
          },
          "metadata": {
            "needs_background": "light"
          }
        }
      ]
    },
    {
      "cell_type": "markdown",
      "source": [
        "## Распределение звонков по UTC:"
      ],
      "metadata": {
        "id": "dcynvDIvMEoi"
      }
    },
    {
      "cell_type": "code",
      "source": [
        "hours_distributions_UTS = hours_distributions - data['time_zone'].astype(int)\n",
        "fig = hours_distributions_UTS.hist().get_figure()"
      ],
      "metadata": {
        "id": "E0Z5da6dMJ0W",
        "colab": {
          "base_uri": "https://localhost:8080/",
          "height": 276
        },
        "outputId": "e0a184dd-33c1-4458-ff8f-ac22e44c29c0"
      },
      "execution_count": 36,
      "outputs": [
        {
          "output_type": "display_data",
          "data": {
            "text/plain": [
              "<Figure size 432x288 with 1 Axes>"
            ],
            "image/png": "[encoded data removed]"
          },
          "metadata": {
            "needs_background": "light"
          }
        }
      ]
    },
    {
      "cell_type": "markdown",
      "metadata": {
        "id": "bwXywlBFFbg0"
      },
      "source": [
        "<div class=\"alert alert-warning\", style=\"border:solid coral 3px; padding: 20px\">\n",
        "    <font size=\"4\", color=\"DimGrey\"><b>⚠️ Комментарий ревьюера</b></font>\n",
        "    <br><br>\n",
        "    <font size=\"3\", color=\"black\">\n",
        "        Опять же такие исследования нужно делать в EDA и с графиками\n",
        "    </font>\n",
        "<div>"
      ]
    },
    {
      "cell_type": "markdown",
      "metadata": {
        "id": "cYTma3HetDHT"
      },
      "source": [
        "**Посмотрим на распределение фичей**"
      ]
    },
    {
      "cell_type": "code",
      "execution_count": 37,
      "metadata": {
        "colab": {
          "base_uri": "https://localhost:8080/"
        },
        "id": "_FjrmlOlRtqa",
        "outputId": "dc21c7a9-5dfd-42c7-f1d2-92aeb7d1f554"
      },
      "outputs": [
        {
          "output_type": "stream",
          "name": "stdout",
          "text": [
            "id_a DISTRIBUTION\n",
            "6325350     796581\n",
            "1741727     543328\n",
            "51817902    280753\n",
            "52273536    137530\n",
            "41812796    126601\n",
            "             ...  \n",
            "60188729         1\n",
            "9767824          1\n",
            "34529479         1\n",
            "53304427         1\n",
            "83290750         1\n",
            "Name: id_a, Length: 16350, dtype: int64\n",
            "\n",
            "\n",
            "id_b DISTRIBUTION\n",
            "5137773     64385\n",
            "67511626     6162\n",
            "7055569      5063\n",
            "70502169     4756\n",
            "3969649      3220\n",
            "            ...  \n",
            "21345557        1\n",
            "24010827        1\n",
            "41561212        1\n",
            "48440682        1\n",
            "25108797        1\n",
            "Name: id_b, Length: 2405512, dtype: int64\n",
            "\n",
            "\n",
            "time_zone DISTRIBUTION\n",
            " 3     2364049\n",
            " 0     1382857\n",
            " 4       97344\n",
            " 2       76354\n",
            " 7       48637\n",
            " 5        9136\n",
            " 1        4690\n",
            " 8        1615\n",
            "-1        1386\n",
            " 10        877\n",
            " 6         428\n",
            " 11        184\n",
            " 9         119\n",
            " 12         20\n",
            "Name: time_zone, dtype: int64\n",
            "\n",
            "\n",
            "forward DISTRIBUTION\n",
            "0    3620885\n",
            "1     366811\n",
            "Name: forward, dtype: int64\n",
            "\n",
            "\n",
            "zero_call_flg DISTRIBUTION\n",
            "0    2267314\n",
            "5    1404606\n",
            "2     102543\n",
            "1      94999\n",
            "3      86638\n",
            "4      31596\n",
            "Name: zero_call_flg, dtype: int64\n",
            "\n",
            "\n",
            "source_b DISTRIBUTION\n",
            "0    3057509\n",
            "1     930187\n",
            "Name: source_b, dtype: int64\n",
            "\n",
            "\n",
            "source_f DISTRIBUTION\n",
            "1    3364725\n",
            "0     622971\n",
            "Name: source_f, dtype: int64\n",
            "\n",
            "\n"
          ]
        }
      ],
      "source": [
        "for col in cat_cols:\n",
        "    print(f\"{col} DISTRIBUTION\")\n",
        "    print(data[col].value_counts())\n",
        "    # TODO: спросить, как визуализировать эти распределения\n",
        "    # plt.pie(data[cat_cols].value_counts())\n",
        "    # plt.show() \n",
        "    print()\n",
        "    print()\n"
      ]
    },
    {
      "cell_type": "markdown",
      "metadata": {
        "id": "Bo56GOA-XkYs"
      },
      "source": [
        "**Визуализируем распределение категориальных фичей**"
      ]
    },
    {
      "cell_type": "markdown",
      "metadata": {
        "id": "sIg2Vp3Ijjuj"
      },
      "source": [
        "Распределение часовых зон:\n"
      ]
    },
    {
      "cell_type": "code",
      "execution_count": 38,
      "metadata": {
        "colab": {
          "base_uri": "https://localhost:8080/",
          "height": 276
        },
        "id": "K4ZLGh_UXjkb",
        "outputId": "9a4c1c14-c934-4807-df9b-926187a47c3f"
      },
      "outputs": [
        {
          "output_type": "display_data",
          "data": {
            "text/plain": [
              "<Figure size 432x288 with 1 Axes>"
            ],
            "image/png": "[encoded data removed]"
          },
          "metadata": {
            "needs_background": "light"
          }
        }
      ],
      "source": [
        "\n",
        "h = data['time_zone'].hist()\n",
        "fig = h.get_figure()"
      ]
    },
    {
      "cell_type": "markdown",
      "metadata": {
        "id": "5FR6DYeOj_Vq"
      },
      "source": [
        "Распределение категории звонка с нулевой длительностью:"
      ]
    },
    {
      "cell_type": "code",
      "execution_count": 39,
      "metadata": {
        "colab": {
          "base_uri": "https://localhost:8080/",
          "height": 276
        },
        "id": "pmdsx3dVkOrQ",
        "outputId": "69d23b39-a79e-4ff0-f930-aea26a5d588f"
      },
      "outputs": [
        {
          "output_type": "display_data",
          "data": {
            "text/plain": [
              "<Figure size 432x288 with 1 Axes>"
            ],
            "image/png": "[encoded data removed]"
          },
          "metadata": {
            "needs_background": "light"
          }
        }
      ],
      "source": [
        "h = data['zero_call_flg'].hist()\n",
        "fig = h.get_figure()"
      ]
    },
    {
      "cell_type": "markdown",
      "metadata": {
        "id": "5aHAKw42y00E"
      },
      "source": [
        "**Столбцы в таблице целевых переменных**"
      ]
    },
    {
      "cell_type": "code",
      "execution_count": 40,
      "metadata": {
        "colab": {
          "base_uri": "https://localhost:8080/"
        },
        "id": "n4Ords6By9hb",
        "outputId": "1886d578-3178-450e-909a-dbac71e54507"
      },
      "outputs": [
        {
          "output_type": "stream",
          "name": "stdout",
          "text": [
            "id DISTRIBUTION\n",
            "196535      1\n",
            "40982206    1\n",
            "25798719    1\n",
            "19050882    1\n",
            "17647619    1\n",
            "           ..\n",
            "23760948    1\n",
            "78393782    1\n",
            "75174874    1\n",
            "23157851    1\n",
            "12483388    1\n",
            "Name: id, Length: 46235, dtype: int64\n",
            "target DISTRIBUTION\n",
            "0.0    16344\n",
            "4.0     9966\n",
            "2.0     6697\n",
            "3.0     2012\n",
            "1.0     1923\n",
            "Name: target, dtype: int64\n",
            "split DISTRIBUTION\n",
            "train    36942\n",
            "test      9293\n",
            "Name: split, dtype: int64\n"
          ]
        }
      ],
      "source": [
        "target_cols = ['id','target','split']\n",
        "for col in target_cols:\n",
        "    print(f\"{col} DISTRIBUTION\")\n",
        "    print(samples[col].value_counts())"
      ]
    },
    {
      "cell_type": "markdown",
      "metadata": {
        "id": "lGUG6A3vybzk"
      },
      "source": [
        "**Визуализация распределения целевых переменных**"
      ]
    },
    {
      "cell_type": "code",
      "execution_count": 41,
      "metadata": {
        "colab": {
          "base_uri": "https://localhost:8080/",
          "height": 265
        },
        "id": "M3VCIGi91AXE",
        "outputId": "277f6e18-7e99-4dfd-8ba0-7b5a01b80055"
      },
      "outputs": [
        {
          "output_type": "display_data",
          "data": {
            "text/plain": [
              "<Figure size 432x288 with 1 Axes>"
            ],
            "image/png": "[encoded data removed]"
          },
          "metadata": {
            "needs_background": "light"
          }
        }
      ],
      "source": [
        "h = samples['target'].hist()\n",
        "fig = h.get_figure()"
      ]
    }
  ]
}