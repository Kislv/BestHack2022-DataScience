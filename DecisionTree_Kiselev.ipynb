{
  "cells": [
    {
      "cell_type": "markdown",
      "source": [
        "## **Классификация звонковых транзакций с использованием DecisionTreeClassifier**\n",
        "\n",
        "---\n",
        "\n"
      ],
      "metadata": {
        "id": "W5gmpT_fGYKt"
      }
    },
    {
      "cell_type": "markdown",
      "metadata": {
        "id": "ucvD4eKxshyF"
      },
      "source": [
        "**Обработка данных**"
      ]
    },
    {
      "cell_type": "code",
      "source": [
        "import pandas as pd\n",
        "from datetime import datetime\n",
        "from dateutil.parser import parse\n",
        "from sklearn.model_selection import train_test_split\n",
        "from sklearn.tree import DecisionTreeClassifier \n",
        "from sklearn import metrics \n",
        "from matplotlib import pyplot as plt\n",
        "from sklearn import tree\n",
        "from sklearn.model_selection import GridSearchCV"
      ],
      "metadata": {
        "id": "JrVO1vAjHEi7"
      },
      "execution_count": 1,
      "outputs": []
    },
    {
      "cell_type": "code",
      "source": [
        "samples = pd.read_csv('./data/beeline_antispam_hakaton_id_samples.csv')\n",
        "print(samples.head())"
      ],
      "metadata": {
        "colab": {
          "base_uri": "https://localhost:8080/"
        },
        "id": "sD6vEWelHHzK",
        "outputId": "49025210-9c12-4cbc-ea4d-92725c7e5edb"
      },
      "execution_count": 2,
      "outputs": [
        {
          "output_type": "stream",
          "name": "stdout",
          "text": [
            "         id  target  split\n",
            "0    196535     NaN   test\n",
            "1  63075900     2.0  train\n",
            "2  35233935     2.0  train\n",
            "3  23557360     4.0  train\n",
            "4  78926486     NaN   test\n"
          ]
        }
      ]
    },
    {
      "cell_type": "code",
      "source": [
        "print(samples.info())"
      ],
      "metadata": {
        "colab": {
          "base_uri": "https://localhost:8080/"
        },
        "id": "N8EhjwZbIDtx",
        "outputId": "45ee6eb2-d9d5-4138-fbc9-5672b9ca6ad9"
      },
      "execution_count": 3,
      "outputs": [
        {
          "output_type": "stream",
          "name": "stdout",
          "text": [
            "<class 'pandas.core.frame.DataFrame'>\n",
            "RangeIndex: 46235 entries, 0 to 46234\n",
            "Data columns (total 3 columns):\n",
            " #   Column  Non-Null Count  Dtype  \n",
            "---  ------  --------------  -----  \n",
            " 0   id      46235 non-null  int64  \n",
            " 1   target  36942 non-null  float64\n",
            " 2   split   46235 non-null  object \n",
            "dtypes: float64(1), int64(1), object(1)\n",
            "memory usage: 1.1+ MB\n",
            "None\n"
          ]
        }
      ]
    },
    {
      "cell_type": "code",
      "execution_count": 4,
      "metadata": {
        "colab": {
          "base_uri": "https://localhost:8080/"
        },
        "id": "wDWStDu2rTi0",
        "outputId": "83e79d50-13f6-404d-c0e4-bc3b41a0a6ce"
      },
      "outputs": [
        {
          "output_type": "stream",
          "name": "stdout",
          "text": [
            "       id_a      id_b start_time_local  time_zone  duration  forward  \\\n",
            "0  67596082  43588153         18:43:03          3         0        0   \n",
            "1   4024969  67656553         11:43:20          4       206        0   \n",
            "2  43166780  31861625         10:32:36          0         5        0   \n",
            "3  51817902  41201237         13:45:02          3         0        0   \n",
            "4  41812796   4932754         13:53:12          0         0        0   \n",
            "\n",
            "   zero_call_flg  source_b  source_f  num_b_length    time_key  \n",
            "0              3         0         1            10  2021-11-01  \n",
            "1              5         1         0            10  2021-11-01  \n",
            "2              0         0         1            10  2021-11-01  \n",
            "3              0         0         1            10  2021-11-01  \n",
            "4              5         0         1            10  2021-11-01  \n"
          ]
        }
      ],
      "source": [
        "data = pd.read_csv('./data/time_key=2021-11-01.csv')\n",
        "print(data.head())\n",
        "                     \n"
      ]
    },
    {
      "cell_type": "code",
      "source": [
        "print(data.info())"
      ],
      "metadata": {
        "colab": {
          "base_uri": "https://localhost:8080/"
        },
        "id": "mUG5FHv-IIdt",
        "outputId": "d76d8803-2a69-408f-a5a9-c71d5f954a97"
      },
      "execution_count": 5,
      "outputs": [
        {
          "output_type": "stream",
          "name": "stdout",
          "text": [
            "<class 'pandas.core.frame.DataFrame'>\n",
            "RangeIndex: 59659 entries, 0 to 59658\n",
            "Data columns (total 11 columns):\n",
            " #   Column            Non-Null Count  Dtype \n",
            "---  ------            --------------  ----- \n",
            " 0   id_a              59659 non-null  int64 \n",
            " 1   id_b              59659 non-null  int64 \n",
            " 2   start_time_local  59659 non-null  object\n",
            " 3   time_zone         59659 non-null  int64 \n",
            " 4   duration          59659 non-null  int64 \n",
            " 5   forward           59659 non-null  int64 \n",
            " 6   zero_call_flg     59659 non-null  int64 \n",
            " 7   source_b          59659 non-null  int64 \n",
            " 8   source_f          59659 non-null  int64 \n",
            " 9   num_b_length      59659 non-null  int64 \n",
            " 10  time_key          59659 non-null  object\n",
            "dtypes: int64(9), object(2)\n",
            "memory usage: 5.0+ MB\n",
            "None\n"
          ]
        }
      ]
    },
    {
      "cell_type": "markdown",
      "metadata": {
        "id": "-iBPKLYSSWih"
      },
      "source": [
        "Выделим фичи из датасета и поделим их на числовые и категориальные."
      ]
    },
    {
      "cell_type": "code",
      "execution_count": 6,
      "metadata": {
        "id": "gGTIueBySVdW"
      },
      "outputs": [],
      "source": [
        "num_cols = [\n",
        "    'start_time_local',\n",
        "    'duration',\n",
        "    'num_b_length',\n",
        "    'time_key'\n",
        "]\n",
        "\n",
        "cat_cols = [\n",
        "    'id_a',\n",
        "    'id_b',\n",
        "    'time_zone',\n",
        "    'forward',\n",
        "    'zero_call_flg',\n",
        "    'source_b',\n",
        "    'source_f',\n",
        "]\n",
        "\n",
        "cols = num_cols + cat_cols\n",
        "data = data[cols]\n"
      ]
    },
    {
      "cell_type": "markdown",
      "metadata": {
        "id": "jZ4C6X2VknQw"
      },
      "source": [
        "\n",
        "Посмотрим на пропущенные значения и уберем их при необходимости"
      ]
    },
    {
      "cell_type": "code",
      "source": [
        "data = data.dropna()"
      ],
      "metadata": {
        "id": "70--CuHQKop2"
      },
      "execution_count": 7,
      "outputs": []
    },
    {
      "cell_type": "markdown",
      "source": [
        "## **Preprocessing**\n",
        "---"
      ],
      "metadata": {
        "id": "gdaAYCHVMs65"
      }
    },
    {
      "cell_type": "markdown",
      "metadata": {
        "id": "52Sku4kbsZj7"
      },
      "source": [
        "**Преобразуем время к числу**"
      ]
    },
    {
      "cell_type": "code",
      "execution_count": 8,
      "metadata": {
        "colab": {
          "base_uri": "https://localhost:8080/"
        },
        "id": "I-4Rm3rFHItr",
        "outputId": "9e6d8c4b-dbd9-4333-e4eb-0081bb3a0fac"
      },
      "outputs": [
        {
          "output_type": "stream",
          "name": "stdout",
          "text": [
            "0    67383.0\n",
            "1    42200.0\n",
            "2    37956.0\n",
            "3    49502.0\n",
            "4    49992.0\n",
            "Name: start_time_local, dtype: float64\n"
          ]
        }
      ],
      "source": [
        "# Время указано в секундах\n",
        "data['start_time_local'] = pd.to_timedelta(data['start_time_local']).dt.total_seconds()\n",
        "print(data['start_time_local'].head())"
      ]
    },
    {
      "cell_type": "markdown",
      "metadata": {
        "id": "TFFy4Ef6-Qsi"
      },
      "source": [
        "**Выделение нового признака из даты**"
      ]
    },
    {
      "cell_type": "code",
      "execution_count": 9,
      "metadata": {
        "colab": {
          "base_uri": "https://localhost:8080/"
        },
        "id": "bGqH5SFL-Vg6",
        "outputId": "d4241fb3-cbfd-4011-f17a-1d6f66295cf2"
      },
      "outputs": [
        {
          "output_type": "stream",
          "name": "stdout",
          "text": [
            "0    2021-11-01\n",
            "1    2021-11-01\n",
            "2    2021-11-01\n",
            "3    2021-11-01\n",
            "4    2021-11-01\n",
            "Name: time_key, dtype: object\n",
            "0    1\n",
            "1    1\n",
            "2    1\n",
            "3    1\n",
            "4    1\n",
            "Name: time_key, dtype: int64\n"
          ]
        }
      ],
      "source": [
        "print(data['time_key'].head())\n",
        "# Извлечем определенный день в месяце\n",
        "data['time_key'] = pd.to_datetime(data['time_key'], errors='coerce').dt.day\n",
        "print(data['time_key'].head())"
      ]
    },
    {
      "cell_type": "markdown",
      "metadata": {
        "id": "tgWqg46P1Yyi"
      },
      "source": [
        "**Разделим данные на выборку для обучения и выборку для тестирования**"
      ]
    },
    {
      "cell_type": "code",
      "execution_count": 10,
      "metadata": {
        "colab": {
          "base_uri": "https://localhost:8080/"
        },
        "id": "dJQTLd401i2k",
        "outputId": "3084d75f-2bb4-410a-c48e-c5ece2081190"
      },
      "outputs": [
        {
          "output_type": "stream",
          "name": "stdout",
          "text": [
            "<class 'pandas.core.frame.DataFrame'>\n",
            "Int64Index: 41428 entries, 0 to 59658\n",
            "Data columns (total 12 columns):\n",
            " #   Column            Non-Null Count  Dtype  \n",
            "---  ------            --------------  -----  \n",
            " 0   start_time_local  41428 non-null  float64\n",
            " 1   duration          41428 non-null  int64  \n",
            " 2   num_b_length      41428 non-null  int64  \n",
            " 3   time_key          41428 non-null  int64  \n",
            " 4   id_a              41428 non-null  int64  \n",
            " 5   id_b              41428 non-null  int64  \n",
            " 6   time_zone         41428 non-null  int64  \n",
            " 7   forward           41428 non-null  int64  \n",
            " 8   zero_call_flg     41428 non-null  int64  \n",
            " 9   source_b          41428 non-null  int64  \n",
            " 10  source_f          41428 non-null  int64  \n",
            " 11  target            41428 non-null  float64\n",
            "dtypes: float64(2), int64(10)\n",
            "memory usage: 4.1 MB\n",
            "None\n",
            "\n",
            "<class 'pandas.core.frame.DataFrame'>\n",
            "Int64Index: 18231 entries, 103 to 59653\n",
            "Data columns (total 12 columns):\n",
            " #   Column            Non-Null Count  Dtype  \n",
            "---  ------            --------------  -----  \n",
            " 0   start_time_local  18231 non-null  float64\n",
            " 1   duration          18231 non-null  int64  \n",
            " 2   num_b_length      18231 non-null  int64  \n",
            " 3   time_key          18231 non-null  int64  \n",
            " 4   id_a              18231 non-null  int64  \n",
            " 5   id_b              18231 non-null  int64  \n",
            " 6   time_zone         18231 non-null  int64  \n",
            " 7   forward           18231 non-null  int64  \n",
            " 8   zero_call_flg     18231 non-null  int64  \n",
            " 9   source_b          18231 non-null  int64  \n",
            " 10  source_f          18231 non-null  int64  \n",
            " 11  target            0 non-null      float64\n",
            "dtypes: float64(2), int64(10)\n",
            "memory usage: 1.8 MB\n",
            "None\n"
          ]
        }
      ],
      "source": [
        "data = (\n",
        "        data\n",
        "        .merge(samples[['id','target', 'split']], left_on='id_a', right_on='id', how='inner') \n",
        "        .drop(columns=['id'])\n",
        ")\n",
        "\n",
        "data , data_predict = [x for _, x in data.groupby(data['split'] == 'test')]\n",
        "data = data.drop('split', axis=1)\n",
        "data_predict = data_predict.drop('split', axis=1)\n",
        "print(data.info())\n",
        "print()\n",
        "print(data_predict.info())\n"
      ]
    },
    {
      "cell_type": "markdown",
      "metadata": {
        "id": "eO2CIqvWKD4t"
      },
      "source": [
        "**Посмотрим на распределение целевой переменной**"
      ]
    },
    {
      "cell_type": "code",
      "execution_count": 11,
      "metadata": {
        "colab": {
          "base_uri": "https://localhost:8080/"
        },
        "id": "F7WZDj4YKKPB",
        "outputId": "580caa94-8b02-447b-beba-2bcfd5223ee0"
      },
      "outputs": [
        {
          "output_type": "stream",
          "name": "stdout",
          "text": [
            "4.0    36490\n",
            "2.0     1961\n",
            "0.0     1837\n",
            "3.0      878\n",
            "1.0      262\n",
            "Name: target, dtype: int64\n"
          ]
        }
      ],
      "source": [
        "print(data['target'].value_counts())"
      ]
    },
    {
      "cell_type": "markdown",
      "metadata": {
        "id": "2o8aWHo5Fbg3"
      },
      "source": [
        "<div class=\"alert alert-warning\", style=\"border:solid coral 3px; padding: 20px\">\n",
        "    <font size=\"4\", color=\"DimGrey\"><b>⚠️ Комментарий ревьюера</b></font>\n",
        "    <br><br>\n",
        "    <font size=\"3\", color=\"black\">\n",
        "        Исторически уже так сложилось, что матрица с признаками обозначается за X (заглавной), т.к. это матрица, а y (прописной), т.к. в базовых задачах - вектор. Кароче, X и y - устоявшиеся обозначения!\n",
        "    </font>\n",
        "    <br><br>\n",
        "    <font size=\"3\", color=\"black\">\n",
        "        Везде, где есть влияние случайности стоит фиксировать random_state.\n",
        "    </font>\n",
        "<div>"
      ]
    },
    {
      "cell_type": "code",
      "execution_count": 24,
      "metadata": {
        "colab": {
          "base_uri": "https://localhost:8080/"
        },
        "id": "jGOhQ9H56gUi",
        "outputId": "7d72a505-3b36-46d7-b156-dbf21d785119"
      },
      "outputs": [
        {
          "output_type": "stream",
          "name": "stdout",
          "text": [
            "5079     4.0\n",
            "32786    4.0\n",
            "48410    4.0\n",
            "1571     4.0\n",
            "14860    4.0\n",
            "Name: target, dtype: float64\n"
          ]
        }
      ],
      "source": [
        "# TODO: ещё здесь ты учишь модель на id. на одном дне это ещё может и сработать, но что делать с новыми абонентами?\n",
        "y = data['target']\n",
        "X = data.drop('target', axis=1)\n",
        "X_train, X_test, y_train, y_test = train_test_split(\n",
        "    X, y,\n",
        "    test_size=0.2,\n",
        "    random_state=42,\n",
        ")"
      ]
    },
    {
      "cell_type": "code",
      "execution_count": 13,
      "metadata": {
        "id": "2AWsYFBXBvh-"
      },
      "outputs": [],
      "source": [
        "# Создание объекта дерева решений\n",
        "clf = DecisionTreeClassifier()\n",
        "clf = clf.fit(X_train, y_train)\n",
        "# Предсказание ответа для тестового набора данных\n",
        "y_pred = clf.predict(X_test)\n"
      ]
    },
    {
      "cell_type": "markdown",
      "metadata": {
        "id": "6Z0bb4UEXvFL"
      },
      "source": [
        "Посмотрим на параметры, которые использовались в модели:"
      ]
    },
    {
      "cell_type": "code",
      "execution_count": 14,
      "metadata": {
        "colab": {
          "base_uri": "https://localhost:8080/"
        },
        "id": "R8YB6tI5X1fu",
        "outputId": "c002a0df-0292-4020-db78-7561e56046e4"
      },
      "outputs": [
        {
          "output_type": "stream",
          "name": "stdout",
          "text": [
            "Глубина:  28\n",
            "Количество листьев в дереве:  1582\n",
            "<class 'pandas.core.frame.DataFrame'>\n",
            "Int64Index: 41428 entries, 0 to 59658\n",
            "Data columns (total 12 columns):\n",
            " #   Column            Non-Null Count  Dtype  \n",
            "---  ------            --------------  -----  \n",
            " 0   start_time_local  41428 non-null  float64\n",
            " 1   duration          41428 non-null  int64  \n",
            " 2   num_b_length      41428 non-null  int64  \n",
            " 3   time_key          41428 non-null  int64  \n",
            " 4   id_a              41428 non-null  int64  \n",
            " 5   id_b              41428 non-null  int64  \n",
            " 6   time_zone         41428 non-null  int64  \n",
            " 7   forward           41428 non-null  int64  \n",
            " 8   zero_call_flg     41428 non-null  int64  \n",
            " 9   source_b          41428 non-null  int64  \n",
            " 10  source_f          41428 non-null  int64  \n",
            " 11  target            41428 non-null  float64\n",
            "dtypes: float64(2), int64(10)\n",
            "memory usage: 4.1 MB\n"
          ]
        }
      ],
      "source": [
        "print('Глубина: ', clf.get_depth())\n",
        "# print('Критерий разбивки: ', clf.criterion)  # TODO: тоже задаём самостоятельно\n",
        "print('Количество листьев в дереве: ', clf.get_n_leaves())\n",
        "data.info()"
      ]
    },
    {
      "cell_type": "code",
      "source": [
        "print( data.columns.values.tolist())\n",
        "print( samples.columns.values.tolist())\n",
        "print(cols)\n",
        "fig = plt.figure(figsize=(25,20))\n",
        "_ = tree.plot_tree(clf, \n",
        "                   feature_names = cols,  \n",
        "                  #  feature_names = data.columns.values.tolist(),  \n",
        "                  #  feature_names=iris.feature_names,\n",
        "                  #  TODO: visualize tree colution  \n",
        "                   class_names = ['target'], \n",
        "                  #  class_names=iris.target_names,\n",
        "                   filled=True)"
      ],
      "metadata": {
        "colab": {
          "base_uri": "https://localhost:8080/",
          "height": 1000
        },
        "id": "9PnZXPcncEh8",
        "outputId": "09f4951b-7bb8-4f7c-a9e9-2361c93e4ef1"
      },
      "execution_count": 20,
      "outputs": [
        {
          "output_type": "stream",
          "name": "stdout",
          "text": [
            "['start_time_local', 'duration', 'num_b_length', 'time_key', 'id_a', 'id_b', 'time_zone', 'forward', 'zero_call_flg', 'source_b', 'source_f', 'target']\n",
            "['id', 'target', 'split']\n",
            "['start_time_local', 'duration', 'num_b_length', 'time_key', 'id_a', 'id_b', 'time_zone', 'forward', 'zero_call_flg', 'source_b', 'source_f']\n"
          ]
        },
        {
          "output_type": "error",
          "ename": "IndexError",
          "evalue": "ignored",
          "traceback": [
            "\u001b[0;31m---------------------------------------------------------------------------\u001b[0m",
            "\u001b[0;31mIndexError\u001b[0m                                Traceback (most recent call last)",
            "\u001b[0;32m<ipython-input-20-60e1ddd517c0>\u001b[0m in \u001b[0;36m<module>\u001b[0;34m\u001b[0m\n\u001b[1;32m      9\u001b[0m                    \u001b[0mclass_names\u001b[0m \u001b[0;34m=\u001b[0m \u001b[0;34m[\u001b[0m\u001b[0;34m'target'\u001b[0m\u001b[0;34m]\u001b[0m\u001b[0;34m,\u001b[0m\u001b[0;34m\u001b[0m\u001b[0;34m\u001b[0m\u001b[0m\n\u001b[1;32m     10\u001b[0m                   \u001b[0;31m#  class_names=iris.target_names,\u001b[0m\u001b[0;34m\u001b[0m\u001b[0;34m\u001b[0m\u001b[0;34m\u001b[0m\u001b[0m\n\u001b[0;32m---> 11\u001b[0;31m                    filled=True)\n\u001b[0m",
            "\u001b[0;32m/usr/local/lib/python3.7/dist-packages/sklearn/tree/_export.py\u001b[0m in \u001b[0;36mplot_tree\u001b[0;34m(decision_tree, max_depth, feature_names, class_names, label, filled, impurity, node_ids, proportion, rounded, precision, ax, fontsize)\u001b[0m\n\u001b[1;32m    193\u001b[0m         \u001b[0mfontsize\u001b[0m\u001b[0;34m=\u001b[0m\u001b[0mfontsize\u001b[0m\u001b[0;34m,\u001b[0m\u001b[0;34m\u001b[0m\u001b[0;34m\u001b[0m\u001b[0m\n\u001b[1;32m    194\u001b[0m     )\n\u001b[0;32m--> 195\u001b[0;31m     \u001b[0;32mreturn\u001b[0m \u001b[0mexporter\u001b[0m\u001b[0;34m.\u001b[0m\u001b[0mexport\u001b[0m\u001b[0;34m(\u001b[0m\u001b[0mdecision_tree\u001b[0m\u001b[0;34m,\u001b[0m \u001b[0max\u001b[0m\u001b[0;34m=\u001b[0m\u001b[0max\u001b[0m\u001b[0;34m)\u001b[0m\u001b[0;34m\u001b[0m\u001b[0;34m\u001b[0m\u001b[0m\n\u001b[0m\u001b[1;32m    196\u001b[0m \u001b[0;34m\u001b[0m\u001b[0m\n\u001b[1;32m    197\u001b[0m \u001b[0;34m\u001b[0m\u001b[0m\n",
            "\u001b[0;32m/usr/local/lib/python3.7/dist-packages/sklearn/tree/_export.py\u001b[0m in \u001b[0;36mexport\u001b[0;34m(self, decision_tree, ax)\u001b[0m\n\u001b[1;32m    654\u001b[0m         \u001b[0max\u001b[0m\u001b[0;34m.\u001b[0m\u001b[0mclear\u001b[0m\u001b[0;34m(\u001b[0m\u001b[0;34m)\u001b[0m\u001b[0;34m\u001b[0m\u001b[0;34m\u001b[0m\u001b[0m\n\u001b[1;32m    655\u001b[0m         \u001b[0max\u001b[0m\u001b[0;34m.\u001b[0m\u001b[0mset_axis_off\u001b[0m\u001b[0;34m(\u001b[0m\u001b[0;34m)\u001b[0m\u001b[0;34m\u001b[0m\u001b[0;34m\u001b[0m\u001b[0m\n\u001b[0;32m--> 656\u001b[0;31m         \u001b[0mmy_tree\u001b[0m \u001b[0;34m=\u001b[0m \u001b[0mself\u001b[0m\u001b[0;34m.\u001b[0m\u001b[0m_make_tree\u001b[0m\u001b[0;34m(\u001b[0m\u001b[0;36m0\u001b[0m\u001b[0;34m,\u001b[0m \u001b[0mdecision_tree\u001b[0m\u001b[0;34m.\u001b[0m\u001b[0mtree_\u001b[0m\u001b[0;34m,\u001b[0m \u001b[0mdecision_tree\u001b[0m\u001b[0;34m.\u001b[0m\u001b[0mcriterion\u001b[0m\u001b[0;34m)\u001b[0m\u001b[0;34m\u001b[0m\u001b[0;34m\u001b[0m\u001b[0m\n\u001b[0m\u001b[1;32m    657\u001b[0m         \u001b[0mdraw_tree\u001b[0m \u001b[0;34m=\u001b[0m \u001b[0mbuchheim\u001b[0m\u001b[0;34m(\u001b[0m\u001b[0mmy_tree\u001b[0m\u001b[0;34m)\u001b[0m\u001b[0;34m\u001b[0m\u001b[0;34m\u001b[0m\u001b[0m\n\u001b[1;32m    658\u001b[0m \u001b[0;34m\u001b[0m\u001b[0m\n",
            "\u001b[0;32m/usr/local/lib/python3.7/dist-packages/sklearn/tree/_export.py\u001b[0m in \u001b[0;36m_make_tree\u001b[0;34m(self, node_id, et, criterion, depth)\u001b[0m\n\u001b[1;32m    630\u001b[0m         \u001b[0;31m# traverses _tree.Tree recursively, builds intermediate\u001b[0m\u001b[0;34m\u001b[0m\u001b[0;34m\u001b[0m\u001b[0;34m\u001b[0m\u001b[0m\n\u001b[1;32m    631\u001b[0m         \u001b[0;31m# \"_reingold_tilford.Tree\" object\u001b[0m\u001b[0;34m\u001b[0m\u001b[0;34m\u001b[0m\u001b[0;34m\u001b[0m\u001b[0m\n\u001b[0;32m--> 632\u001b[0;31m         \u001b[0mname\u001b[0m \u001b[0;34m=\u001b[0m \u001b[0mself\u001b[0m\u001b[0;34m.\u001b[0m\u001b[0mnode_to_str\u001b[0m\u001b[0;34m(\u001b[0m\u001b[0met\u001b[0m\u001b[0;34m,\u001b[0m \u001b[0mnode_id\u001b[0m\u001b[0;34m,\u001b[0m \u001b[0mcriterion\u001b[0m\u001b[0;34m=\u001b[0m\u001b[0mcriterion\u001b[0m\u001b[0;34m)\u001b[0m\u001b[0;34m\u001b[0m\u001b[0;34m\u001b[0m\u001b[0m\n\u001b[0m\u001b[1;32m    633\u001b[0m         if et.children_left[node_id] != _tree.TREE_LEAF and (\n\u001b[1;32m    634\u001b[0m             \u001b[0mself\u001b[0m\u001b[0;34m.\u001b[0m\u001b[0mmax_depth\u001b[0m \u001b[0;32mis\u001b[0m \u001b[0;32mNone\u001b[0m \u001b[0;32mor\u001b[0m \u001b[0mdepth\u001b[0m \u001b[0;34m<=\u001b[0m \u001b[0mself\u001b[0m\u001b[0;34m.\u001b[0m\u001b[0mmax_depth\u001b[0m\u001b[0;34m\u001b[0m\u001b[0;34m\u001b[0m\u001b[0m\n",
            "\u001b[0;32m/usr/local/lib/python3.7/dist-packages/sklearn/tree/_export.py\u001b[0m in \u001b[0;36mnode_to_str\u001b[0;34m(self, tree, node_id, criterion)\u001b[0m\n\u001b[1;32m    365\u001b[0m                 \u001b[0mnode_string\u001b[0m \u001b[0;34m+=\u001b[0m \u001b[0;34m\"class = \"\u001b[0m\u001b[0;34m\u001b[0m\u001b[0;34m\u001b[0m\u001b[0m\n\u001b[1;32m    366\u001b[0m             \u001b[0;32mif\u001b[0m \u001b[0mself\u001b[0m\u001b[0;34m.\u001b[0m\u001b[0mclass_names\u001b[0m \u001b[0;32mis\u001b[0m \u001b[0;32mnot\u001b[0m \u001b[0;32mTrue\u001b[0m\u001b[0;34m:\u001b[0m\u001b[0;34m\u001b[0m\u001b[0;34m\u001b[0m\u001b[0m\n\u001b[0;32m--> 367\u001b[0;31m                 \u001b[0mclass_name\u001b[0m \u001b[0;34m=\u001b[0m \u001b[0mself\u001b[0m\u001b[0;34m.\u001b[0m\u001b[0mclass_names\u001b[0m\u001b[0;34m[\u001b[0m\u001b[0mnp\u001b[0m\u001b[0;34m.\u001b[0m\u001b[0margmax\u001b[0m\u001b[0;34m(\u001b[0m\u001b[0mvalue\u001b[0m\u001b[0;34m)\u001b[0m\u001b[0;34m]\u001b[0m\u001b[0;34m\u001b[0m\u001b[0;34m\u001b[0m\u001b[0m\n\u001b[0m\u001b[1;32m    368\u001b[0m             \u001b[0;32melse\u001b[0m\u001b[0;34m:\u001b[0m\u001b[0;34m\u001b[0m\u001b[0;34m\u001b[0m\u001b[0m\n\u001b[1;32m    369\u001b[0m                 class_name = \"y%s%s%s\" % (\n",
            "\u001b[0;31mIndexError\u001b[0m: list index out of range"
          ]
        },
        {
          "output_type": "display_data",
          "data": {
            "text/plain": [
              "<Figure size 1800x1440 with 1 Axes>"
            ],
            "image/png": "[encoded data removed]"
          },
          "metadata": {
            "needs_background": "light"
          }
        }
      ]
    },
    {
      "cell_type": "markdown",
      "metadata": {
        "id": "yfXoevHTCG5F"
      },
      "source": [
        "**Оценка точности**"
      ]
    },
    {
      "cell_type": "code",
      "execution_count": 21,
      "metadata": {
        "colab": {
          "base_uri": "https://localhost:8080/"
        },
        "id": "sXE1-LlbCJ56",
        "outputId": "432e14f4-65a6-4122-9767-fce4ca486482"
      },
      "outputs": [
        {
          "output_type": "stream",
          "name": "stdout",
          "text": [
            "Accuracy: 0.944967414916727\n"
          ]
        }
      ],
      "source": [
        "print(\"Accuracy:\",metrics.accuracy_score(y_test, y_pred))"
      ]
    },
    {
      "cell_type": "markdown",
      "metadata": {
        "id": "69YFQuhX-d3F"
      },
      "source": [
        "**Найдем наилучшие параметры при помощи кросс-валидации**"
      ]
    },
    {
      "cell_type": "code",
      "execution_count": 37,
      "metadata": {
        "colab": {
          "base_uri": "https://localhost:8080/"
        },
        "id": "W4Az19-o_sab",
        "outputId": "a627392c-595c-4359-ba94-86f97db679cc"
      },
      "outputs": [
        {
          "output_type": "stream",
          "name": "stdout",
          "text": [
            "Fitting 5 folds for each of 128 candidates, totalling 640 fits\n"
          ]
        }
      ],
      "source": [
        "parameters = {'max_depth':range(3, 35), 'min_samples_split': range(2, 4), 'criterion': ['gini', 'entropy']}\n",
        "# n_jobs = -1 ознначает, что будут использоваться все процессоры для параллельных вычислений\n",
        "clfBest = GridSearchCV(DecisionTreeClassifier(), parameters, n_jobs=-1, verbose = 3)\n",
        "clfBest.fit(X=X_train[cols], y=y_train)\n",
        "None"
      ]
    },
    {
      "cell_type": "code",
      "execution_count": 42,
      "metadata": {
        "id": "YLBheNjwFbg6",
        "colab": {
          "base_uri": "https://localhost:8080/"
        },
        "outputId": "31b75be2-da24-4899-8898-d01301cc36f9"
      },
      "outputs": [
        {
          "output_type": "stream",
          "name": "stdout",
          "text": [
            "Fitting 5 folds for each of 128 candidates, totalling 640 fits\n"
          ]
        }
      ],
      "source": [
        "parameters={\n",
        "        'max_depth': range(3, 35),\n",
        "        'min_samples_split': range(2, 4),\n",
        "        'criterion': ['gini', 'entropy']\n",
        "    }\n",
        "clfBest = GridSearchCV(\n",
        "    DecisionTreeClassifier(),\n",
        "    parameters,\n",
        "    n_jobs=-1,  # ознначает, что будут использоваться все процессоры для параллельных вычислений\n",
        "    verbose=3,\n",
        "    refit = True,\n",
        ")\n",
        "clfBest.fit(X_train, y_train)\n",
        "None  "
      ]
    },
    {
      "cell_type": "code",
      "execution_count": 43,
      "metadata": {
        "colab": {
          "base_uri": "https://localhost:8080/"
        },
        "id": "IS9CeJtncHMV",
        "outputId": "7708d8d7-cbea-4666-a898-f62ddcd7402d"
      },
      "outputs": [
        {
          "output_type": "stream",
          "name": "stdout",
          "text": [
            "DecisionTreeClassifier(criterion='entropy', max_depth=17)\n",
            "0.9454769432204447\n",
            "{'criterion': 'entropy', 'max_depth': 17, 'min_samples_split': 2}\n"
          ]
        }
      ],
      "source": [
        "\n",
        "# Оценщик выбранный при поиске, то есть оценщик, который имеет максимальный счет на пропущенных данных\n",
        "print(clfBest.best_estimator_)\n",
        "\n",
        "# Среднее значение счета кросс-валидации для best_estimator \n",
        "print (clfBest.best_score_)\n",
        "\n",
        "# Лучшие значения параметров\n",
        "print(clfBest.best_params_)"
      ]
    },
    {
      "cell_type": "markdown",
      "metadata": {
        "id": "XZ4_7xybUfXH"
      },
      "source": [
        "**Обучим модель с наилучшими параметрами и сравним её с прошлым вариантом модели**"
      ]
    },
    {
      "cell_type": "code",
      "execution_count": 46,
      "metadata": {
        "colab": {
          "base_uri": "https://localhost:8080/"
        },
        "id": "3PPZE0HSUtIQ",
        "outputId": "19042bb1-6618-40af-d3b6-75d9d6880d58"
      },
      "outputs": [
        {
          "output_type": "stream",
          "name": "stdout",
          "text": [
            "Accuracy: 0.9485879797248371\n"
          ]
        }
      ],
      "source": [
        "y_predBest = clfBest.predict(X_test)\n",
        "print(\"Accuracy:\",metrics.accuracy_score(y_test, y_predBest))"
      ]
    },
    {
      "cell_type": "markdown",
      "metadata": {
        "id": "CMAcsCBZFbg7"
      },
      "source": [
        "<div class=\"alert alert-warning\", style=\"border:solid coral 3px; padding: 20px\">\n",
        "    <font size=\"4\", color=\"DimGrey\"><b>⚠️ Комментарий ревьюера</b></font>\n",
        "    <br><br>\n",
        "    <font size=\"3\", color=\"black\">\n",
        "        Сейчас ты классифицируешь транзакции, а задача - классифицировать абонентов. Получается, что для одного абонента может быть несколько транзакций с разными предсказанными классами. Далее нужно на основе предсказаний транзакций сделать предсказание для абонента. Это можно сделать 2 способами: 1) жёсткое голосование (обычное), 2) мягкое голосование, то есть усредняются вероятности классов по всем транзакциям и выбирается класс с наибольшей вероятностью.\n",
        "    </font>\n",
        "<div>"
      ]
    }
  ],
  "metadata": {
    "colab": {
      "collapsed_sections": [],
      "provenance": []
    },
    "kernelspec": {
      "display_name": "Python 3.10.5 64-bit",
      "language": "python",
      "name": "python3"
    },
    "language_info": {
      "codemirror_mode": {
        "name": "ipython",
        "version": 3
      },
      "file_extension": ".py",
      "mimetype": "text/x-python",
      "name": "python",
      "nbconvert_exporter": "python",
      "pygments_lexer": "ipython3",
      "version": "3.10.5"
    },
    "vscode": {
      "interpreter": {
        "hash": "767d51c1340bd893661ea55ea3124f6de3c7a262a8b4abca0554b478b1e2ff90"
      }
    }
  },
  "nbformat": 4,
  "nbformat_minor": 0
}