{
  "cells": [
    {
      "cell_type": "markdown",
      "source": [
        "## **Классификация звонковых транзакций с использованием DecisionTreeClassifier**\n",
        "\n",
        "---\n",
        "\n"
      ],
      "metadata": {
        "id": "W5gmpT_fGYKt"
      }
    },
    {
      "cell_type": "markdown",
      "metadata": {
        "id": "ucvD4eKxshyF"
      },
      "source": [
        "**Обработка данных**"
      ]
    },
    {
      "cell_type": "code",
      "source": [
        "import pandas as pd\n",
        "from datetime import datetime\n",
        "from dateutil.parser import parse\n",
        "from sklearn.model_selection import train_test_split\n",
        "from sklearn.preprocessing import StandardScaler, RobustScaler, LabelEncoder, OneHotEncoder\n",
        "from sklearn.tree import DecisionTreeClassifier \n",
        "from sklearn import metrics \n",
        "from matplotlib import pyplot as plt\n",
        "from sklearn import tree\n",
        "from sklearn.model_selection import GridSearchCV\n",
        "import graphviz \n",
        "from sklearn.ensemble import VotingClassifier\n",
        "import os"
      ],
      "metadata": {
        "id": "JrVO1vAjHEi7"
      },
      "execution_count": 23,
      "outputs": []
    },
    {
      "cell_type": "code",
      "source": [
        "path = ''\n",
        "samples_path = os.path.join(path, \"data\", \"beeline_antispam_hakaton_id_samples.csv\")\n",
        "samples = pd.read_csv(samples_path)\n",
        "samples.head()"
      ],
      "metadata": {
        "colab": {
          "base_uri": "https://localhost:8080/",
          "height": 206
        },
        "id": "sD6vEWelHHzK",
        "outputId": "c9cc162d-872f-46b7-9ead-1a3f390bff4b"
      },
      "execution_count": 24,
      "outputs": [
        {
          "output_type": "execute_result",
          "data": {
            "text/plain": [
              "         id  target  split\n",
              "0    196535     NaN   test\n",
              "1  63075900     2.0  train\n",
              "2  35233935     2.0  train\n",
              "3  23557360     4.0  train\n",
              "4  78926486     NaN   test"
            ],
            "text/html": [
              "\n",
              "  <div id=\"df-61803594-002e-4ec8-8889-746b29800c31\">\n",
              "    <div class=\"colab-df-container\">\n",
              "      <div>\n",
              "<style scoped>\n",
              "    .dataframe tbody tr th:only-of-type {\n",
              "        vertical-align: middle;\n",
              "    }\n",
              "\n",
              "    .dataframe tbody tr th {\n",
              "        vertical-align: top;\n",
              "    }\n",
              "\n",
              "    .dataframe thead th {\n",
              "        text-align: right;\n",
              "    }\n",
              "</style>\n",
              "<table border=\"1\" class=\"dataframe\">\n",
              "  <thead>\n",
              "    <tr style=\"text-align: right;\">\n",
              "      <th></th>\n",
              "      <th>id</th>\n",
              "      <th>target</th>\n",
              "      <th>split</th>\n",
              "    </tr>\n",
              "  </thead>\n",
              "  <tbody>\n",
              "    <tr>\n",
              "      <th>0</th>\n",
              "      <td>196535</td>\n",
              "      <td>NaN</td>\n",
              "      <td>test</td>\n",
              "    </tr>\n",
              "    <tr>\n",
              "      <th>1</th>\n",
              "      <td>63075900</td>\n",
              "      <td>2.0</td>\n",
              "      <td>train</td>\n",
              "    </tr>\n",
              "    <tr>\n",
              "      <th>2</th>\n",
              "      <td>35233935</td>\n",
              "      <td>2.0</td>\n",
              "      <td>train</td>\n",
              "    </tr>\n",
              "    <tr>\n",
              "      <th>3</th>\n",
              "      <td>23557360</td>\n",
              "      <td>4.0</td>\n",
              "      <td>train</td>\n",
              "    </tr>\n",
              "    <tr>\n",
              "      <th>4</th>\n",
              "      <td>78926486</td>\n",
              "      <td>NaN</td>\n",
              "      <td>test</td>\n",
              "    </tr>\n",
              "  </tbody>\n",
              "</table>\n",
              "</div>\n",
              "      <button class=\"colab-df-convert\" onclick=\"convertToInteractive('df-61803594-002e-4ec8-8889-746b29800c31')\"\n",
              "              title=\"Convert this dataframe to an interactive table.\"\n",
              "              style=\"display:none;\">\n",
              "        \n",
              "  <svg xmlns=\"http://www.w3.org/2000/svg\" height=\"24px\"viewBox=\"0 0 24 24\"\n",
              "       width=\"24px\">\n",
              "    <path d=\"M0 0h24v24H0V0z\" fill=\"none\"/>\n",
              "    <path d=\"M18.56 5.44l.94 2.06.94-2.06 2.06-.94-2.06-.94-.94-2.06-.94 2.06-2.06.94zm-11 1L8.5 8.5l.94-2.06 2.06-.94-2.06-.94L8.5 2.5l-.94 2.06-2.06.94zm10 10l.94 2.06.94-2.06 2.06-.94-2.06-.94-.94-2.06-.94 2.06-2.06.94z\"/><path d=\"M17.41 7.96l-1.37-1.37c-.4-.4-.92-.59-1.43-.59-.52 0-1.04.2-1.43.59L10.3 9.45l-7.72 7.72c-.78.78-.78 2.05 0 2.83L4 21.41c.39.39.9.59 1.41.59.51 0 1.02-.2 1.41-.59l7.78-7.78 2.81-2.81c.8-.78.8-2.07 0-2.86zM5.41 20L4 18.59l7.72-7.72 1.47 1.35L5.41 20z\"/>\n",
              "  </svg>\n",
              "      </button>\n",
              "      \n",
              "  <style>\n",
              "    .colab-df-container {\n",
              "      display:flex;\n",
              "      flex-wrap:wrap;\n",
              "      gap: 12px;\n",
              "    }\n",
              "\n",
              "    .colab-df-convert {\n",
              "      background-color: #E8F0FE;\n",
              "      border: none;\n",
              "      border-radius: 50%;\n",
              "      cursor: pointer;\n",
              "      display: none;\n",
              "      fill: #1967D2;\n",
              "      height: 32px;\n",
              "      padding: 0 0 0 0;\n",
              "      width: 32px;\n",
              "    }\n",
              "\n",
              "    .colab-df-convert:hover {\n",
              "      background-color: #E2EBFA;\n",
              "      box-shadow: 0px 1px 2px rgba(60, 64, 67, 0.3), 0px 1px 3px 1px rgba(60, 64, 67, 0.15);\n",
              "      fill: #174EA6;\n",
              "    }\n",
              "\n",
              "    [theme=dark] .colab-df-convert {\n",
              "      background-color: #3B4455;\n",
              "      fill: #D2E3FC;\n",
              "    }\n",
              "\n",
              "    [theme=dark] .colab-df-convert:hover {\n",
              "      background-color: #434B5C;\n",
              "      box-shadow: 0px 1px 3px 1px rgba(0, 0, 0, 0.15);\n",
              "      filter: drop-shadow(0px 1px 2px rgba(0, 0, 0, 0.3));\n",
              "      fill: #FFFFFF;\n",
              "    }\n",
              "  </style>\n",
              "\n",
              "      <script>\n",
              "        const buttonEl =\n",
              "          document.querySelector('#df-61803594-002e-4ec8-8889-746b29800c31 button.colab-df-convert');\n",
              "        buttonEl.style.display =\n",
              "          google.colab.kernel.accessAllowed ? 'block' : 'none';\n",
              "\n",
              "        async function convertToInteractive(key) {\n",
              "          const element = document.querySelector('#df-61803594-002e-4ec8-8889-746b29800c31');\n",
              "          const dataTable =\n",
              "            await google.colab.kernel.invokeFunction('convertToInteractive',\n",
              "                                                     [key], {});\n",
              "          if (!dataTable) return;\n",
              "\n",
              "          const docLinkHtml = 'Like what you see? Visit the ' +\n",
              "            '<a target=\"_blank\" href=https://colab.research.google.com/notebooks/data_table.ipynb>data table notebook</a>'\n",
              "            + ' to learn more about interactive tables.';\n",
              "          element.innerHTML = '';\n",
              "          dataTable['output_type'] = 'display_data';\n",
              "          await google.colab.output.renderOutput(dataTable, element);\n",
              "          const docLink = document.createElement('div');\n",
              "          docLink.innerHTML = docLinkHtml;\n",
              "          element.appendChild(docLink);\n",
              "        }\n",
              "      </script>\n",
              "    </div>\n",
              "  </div>\n",
              "  "
            ]
          },
          "metadata": {},
          "execution_count": 24
        }
      ]
    },
    {
      "cell_type": "code",
      "source": [
        "samples.info()"
      ],
      "metadata": {
        "colab": {
          "base_uri": "https://localhost:8080/"
        },
        "id": "N8EhjwZbIDtx",
        "outputId": "ef8096de-a5d4-49f8-a7ff-5aa76f8f8917"
      },
      "execution_count": 25,
      "outputs": [
        {
          "output_type": "stream",
          "name": "stdout",
          "text": [
            "<class 'pandas.core.frame.DataFrame'>\n",
            "RangeIndex: 46235 entries, 0 to 46234\n",
            "Data columns (total 3 columns):\n",
            " #   Column  Non-Null Count  Dtype  \n",
            "---  ------  --------------  -----  \n",
            " 0   id      46235 non-null  int64  \n",
            " 1   target  36942 non-null  float64\n",
            " 2   split   46235 non-null  object \n",
            "dtypes: float64(1), int64(1), object(1)\n",
            "memory usage: 1.1+ MB\n"
          ]
        }
      ]
    },
    {
      "cell_type": "code",
      "execution_count": 26,
      "metadata": {
        "colab": {
          "base_uri": "https://localhost:8080/",
          "height": 206
        },
        "id": "wDWStDu2rTi0",
        "outputId": "d3afa102-7d54-4298-daaa-772248ba58ca"
      },
      "outputs": [
        {
          "output_type": "execute_result",
          "data": {
            "text/plain": [
              "       id_a      id_b start_time_local  time_zone  duration  forward  \\\n",
              "0  67596082  43588153         18:43:03          3         0        0   \n",
              "1   4024969  67656553         11:43:20          4       206        0   \n",
              "2  43166780  31861625         10:32:36          0         5        0   \n",
              "3  51817902  41201237         13:45:02          3         0        0   \n",
              "4  41812796   4932754         13:53:12          0         0        0   \n",
              "\n",
              "   zero_call_flg  source_b  source_f  num_b_length    time_key  \n",
              "0              3         0         1            10  2021-11-01  \n",
              "1              5         1         0            10  2021-11-01  \n",
              "2              0         0         1            10  2021-11-01  \n",
              "3              0         0         1            10  2021-11-01  \n",
              "4              5         0         1            10  2021-11-01  "
            ],
            "text/html": [
              "\n",
              "  <div id=\"df-63afba7e-6d20-4725-badf-29744e5c6f19\">\n",
              "    <div class=\"colab-df-container\">\n",
              "      <div>\n",
              "<style scoped>\n",
              "    .dataframe tbody tr th:only-of-type {\n",
              "        vertical-align: middle;\n",
              "    }\n",
              "\n",
              "    .dataframe tbody tr th {\n",
              "        vertical-align: top;\n",
              "    }\n",
              "\n",
              "    .dataframe thead th {\n",
              "        text-align: right;\n",
              "    }\n",
              "</style>\n",
              "<table border=\"1\" class=\"dataframe\">\n",
              "  <thead>\n",
              "    <tr style=\"text-align: right;\">\n",
              "      <th></th>\n",
              "      <th>id_a</th>\n",
              "      <th>id_b</th>\n",
              "      <th>start_time_local</th>\n",
              "      <th>time_zone</th>\n",
              "      <th>duration</th>\n",
              "      <th>forward</th>\n",
              "      <th>zero_call_flg</th>\n",
              "      <th>source_b</th>\n",
              "      <th>source_f</th>\n",
              "      <th>num_b_length</th>\n",
              "      <th>time_key</th>\n",
              "    </tr>\n",
              "  </thead>\n",
              "  <tbody>\n",
              "    <tr>\n",
              "      <th>0</th>\n",
              "      <td>67596082</td>\n",
              "      <td>43588153</td>\n",
              "      <td>18:43:03</td>\n",
              "      <td>3</td>\n",
              "      <td>0</td>\n",
              "      <td>0</td>\n",
              "      <td>3</td>\n",
              "      <td>0</td>\n",
              "      <td>1</td>\n",
              "      <td>10</td>\n",
              "      <td>2021-11-01</td>\n",
              "    </tr>\n",
              "    <tr>\n",
              "      <th>1</th>\n",
              "      <td>4024969</td>\n",
              "      <td>67656553</td>\n",
              "      <td>11:43:20</td>\n",
              "      <td>4</td>\n",
              "      <td>206</td>\n",
              "      <td>0</td>\n",
              "      <td>5</td>\n",
              "      <td>1</td>\n",
              "      <td>0</td>\n",
              "      <td>10</td>\n",
              "      <td>2021-11-01</td>\n",
              "    </tr>\n",
              "    <tr>\n",
              "      <th>2</th>\n",
              "      <td>43166780</td>\n",
              "      <td>31861625</td>\n",
              "      <td>10:32:36</td>\n",
              "      <td>0</td>\n",
              "      <td>5</td>\n",
              "      <td>0</td>\n",
              "      <td>0</td>\n",
              "      <td>0</td>\n",
              "      <td>1</td>\n",
              "      <td>10</td>\n",
              "      <td>2021-11-01</td>\n",
              "    </tr>\n",
              "    <tr>\n",
              "      <th>3</th>\n",
              "      <td>51817902</td>\n",
              "      <td>41201237</td>\n",
              "      <td>13:45:02</td>\n",
              "      <td>3</td>\n",
              "      <td>0</td>\n",
              "      <td>0</td>\n",
              "      <td>0</td>\n",
              "      <td>0</td>\n",
              "      <td>1</td>\n",
              "      <td>10</td>\n",
              "      <td>2021-11-01</td>\n",
              "    </tr>\n",
              "    <tr>\n",
              "      <th>4</th>\n",
              "      <td>41812796</td>\n",
              "      <td>4932754</td>\n",
              "      <td>13:53:12</td>\n",
              "      <td>0</td>\n",
              "      <td>0</td>\n",
              "      <td>0</td>\n",
              "      <td>5</td>\n",
              "      <td>0</td>\n",
              "      <td>1</td>\n",
              "      <td>10</td>\n",
              "      <td>2021-11-01</td>\n",
              "    </tr>\n",
              "  </tbody>\n",
              "</table>\n",
              "</div>\n",
              "      <button class=\"colab-df-convert\" onclick=\"convertToInteractive('df-63afba7e-6d20-4725-badf-29744e5c6f19')\"\n",
              "              title=\"Convert this dataframe to an interactive table.\"\n",
              "              style=\"display:none;\">\n",
              "        \n",
              "  <svg xmlns=\"http://www.w3.org/2000/svg\" height=\"24px\"viewBox=\"0 0 24 24\"\n",
              "       width=\"24px\">\n",
              "    <path d=\"M0 0h24v24H0V0z\" fill=\"none\"/>\n",
              "    <path d=\"M18.56 5.44l.94 2.06.94-2.06 2.06-.94-2.06-.94-.94-2.06-.94 2.06-2.06.94zm-11 1L8.5 8.5l.94-2.06 2.06-.94-2.06-.94L8.5 2.5l-.94 2.06-2.06.94zm10 10l.94 2.06.94-2.06 2.06-.94-2.06-.94-.94-2.06-.94 2.06-2.06.94z\"/><path d=\"M17.41 7.96l-1.37-1.37c-.4-.4-.92-.59-1.43-.59-.52 0-1.04.2-1.43.59L10.3 9.45l-7.72 7.72c-.78.78-.78 2.05 0 2.83L4 21.41c.39.39.9.59 1.41.59.51 0 1.02-.2 1.41-.59l7.78-7.78 2.81-2.81c.8-.78.8-2.07 0-2.86zM5.41 20L4 18.59l7.72-7.72 1.47 1.35L5.41 20z\"/>\n",
              "  </svg>\n",
              "      </button>\n",
              "      \n",
              "  <style>\n",
              "    .colab-df-container {\n",
              "      display:flex;\n",
              "      flex-wrap:wrap;\n",
              "      gap: 12px;\n",
              "    }\n",
              "\n",
              "    .colab-df-convert {\n",
              "      background-color: #E8F0FE;\n",
              "      border: none;\n",
              "      border-radius: 50%;\n",
              "      cursor: pointer;\n",
              "      display: none;\n",
              "      fill: #1967D2;\n",
              "      height: 32px;\n",
              "      padding: 0 0 0 0;\n",
              "      width: 32px;\n",
              "    }\n",
              "\n",
              "    .colab-df-convert:hover {\n",
              "      background-color: #E2EBFA;\n",
              "      box-shadow: 0px 1px 2px rgba(60, 64, 67, 0.3), 0px 1px 3px 1px rgba(60, 64, 67, 0.15);\n",
              "      fill: #174EA6;\n",
              "    }\n",
              "\n",
              "    [theme=dark] .colab-df-convert {\n",
              "      background-color: #3B4455;\n",
              "      fill: #D2E3FC;\n",
              "    }\n",
              "\n",
              "    [theme=dark] .colab-df-convert:hover {\n",
              "      background-color: #434B5C;\n",
              "      box-shadow: 0px 1px 3px 1px rgba(0, 0, 0, 0.15);\n",
              "      filter: drop-shadow(0px 1px 2px rgba(0, 0, 0, 0.3));\n",
              "      fill: #FFFFFF;\n",
              "    }\n",
              "  </style>\n",
              "\n",
              "      <script>\n",
              "        const buttonEl =\n",
              "          document.querySelector('#df-63afba7e-6d20-4725-badf-29744e5c6f19 button.colab-df-convert');\n",
              "        buttonEl.style.display =\n",
              "          google.colab.kernel.accessAllowed ? 'block' : 'none';\n",
              "\n",
              "        async function convertToInteractive(key) {\n",
              "          const element = document.querySelector('#df-63afba7e-6d20-4725-badf-29744e5c6f19');\n",
              "          const dataTable =\n",
              "            await google.colab.kernel.invokeFunction('convertToInteractive',\n",
              "                                                     [key], {});\n",
              "          if (!dataTable) return;\n",
              "\n",
              "          const docLinkHtml = 'Like what you see? Visit the ' +\n",
              "            '<a target=\"_blank\" href=https://colab.research.google.com/notebooks/data_table.ipynb>data table notebook</a>'\n",
              "            + ' to learn more about interactive tables.';\n",
              "          element.innerHTML = '';\n",
              "          dataTable['output_type'] = 'display_data';\n",
              "          await google.colab.output.renderOutput(dataTable, element);\n",
              "          const docLink = document.createElement('div');\n",
              "          docLink.innerHTML = docLinkHtml;\n",
              "          element.appendChild(docLink);\n",
              "        }\n",
              "      </script>\n",
              "    </div>\n",
              "  </div>\n",
              "  "
            ]
          },
          "metadata": {},
          "execution_count": 26
        }
      ],
      "source": [
        "data_path = os.path.join(path, 'data', 'time_key=2021-11-01.csv')\n",
        "data = pd.read_csv(data_path)\n",
        "data.head()"
      ]
    },
    {
      "cell_type": "markdown",
      "metadata": {
        "id": "-iBPKLYSSWih"
      },
      "source": [
        "Выделим фичи из датасета и поделим их на числовые и категориальные."
      ]
    },
    {
      "cell_type": "code",
      "execution_count": 27,
      "metadata": {
        "id": "gGTIueBySVdW"
      },
      "outputs": [],
      "source": [
        "num_cols = [\n",
        "    'start_time_local',\n",
        "    'duration',\n",
        "    'num_b_length',\n",
        "    'time_key'\n",
        "]\n",
        "\n",
        "cat_cols = [\n",
        "    'time_zone',\n",
        "    'forward',\n",
        "    'zero_call_flg',\n",
        "    'source_b',\n",
        "    'source_f',\n",
        "]\n",
        "\n",
        "cols_withot_ids = num_cols +  cat_cols"
      ]
    },
    {
      "cell_type": "markdown",
      "metadata": {
        "id": "jZ4C6X2VknQw"
      },
      "source": [
        "<!--  -->\n",
        "Посмотрим на пропущенные значения и уберем их при необходимости"
      ]
    },
    {
      "cell_type": "code",
      "source": [
        "data.isna().any()"
      ],
      "metadata": {
        "colab": {
          "base_uri": "https://localhost:8080/"
        },
        "id": "ccVyICHBYI9D",
        "outputId": "2a154f63-a58a-4953-be10-cd22e628f572"
      },
      "execution_count": 28,
      "outputs": [
        {
          "output_type": "execute_result",
          "data": {
            "text/plain": [
              "id_a                False\n",
              "id_b                False\n",
              "start_time_local    False\n",
              "time_zone           False\n",
              "duration            False\n",
              "forward             False\n",
              "zero_call_flg       False\n",
              "source_b            False\n",
              "source_f            False\n",
              "num_b_length        False\n",
              "time_key            False\n",
              "dtype: bool"
            ]
          },
          "metadata": {},
          "execution_count": 28
        }
      ]
    },
    {
      "cell_type": "code",
      "source": [
        "data.fillna(inplace=True, method='ffill')"
      ],
      "metadata": {
        "id": "70--CuHQKop2"
      },
      "execution_count": 29,
      "outputs": []
    },
    {
      "cell_type": "markdown",
      "source": [
        "## **Preprocessing**\n",
        "---"
      ],
      "metadata": {
        "id": "gdaAYCHVMs65"
      }
    },
    {
      "cell_type": "markdown",
      "metadata": {
        "id": "52Sku4kbsZj7"
      },
      "source": [
        "**Преобразуем время к числу**"
      ]
    },
    {
      "cell_type": "code",
      "execution_count": 30,
      "metadata": {
        "id": "I-4Rm3rFHItr"
      },
      "outputs": [],
      "source": [
        "# Время указано в секундах\n",
        "data['start_time_local'] = pd.to_timedelta(data['start_time_local']).dt.total_seconds()"
      ]
    },
    {
      "cell_type": "markdown",
      "metadata": {
        "id": "TFFy4Ef6-Qsi"
      },
      "source": [
        "**Выделение нового признака из даты**"
      ]
    },
    {
      "cell_type": "code",
      "execution_count": 31,
      "metadata": {
        "id": "bGqH5SFL-Vg6"
      },
      "outputs": [],
      "source": [
        "# Извлечем определенный день в месяце\n",
        "data['time_key'] = pd.to_datetime(data['time_key'], errors='coerce').dt.day"
      ]
    },
    {
      "cell_type": "markdown",
      "source": [
        "## **Подготовка к обучению модели**\n",
        "---"
      ],
      "metadata": {
        "id": "mjIB51bE3NK9"
      }
    },
    {
      "cell_type": "markdown",
      "metadata": {
        "id": "tgWqg46P1Yyi"
      },
      "source": [
        "**Разделим данные на выборку для обучения и выборку для тестирования**"
      ]
    },
    {
      "cell_type": "code",
      "execution_count": 32,
      "metadata": {
        "id": "dJQTLd401i2k"
      },
      "outputs": [],
      "source": [
        "data = (\n",
        "        data\n",
        "        .merge(samples[['id','target', 'split']], left_on='id_a', right_on='id', how='inner') \n",
        "        .drop(columns=['id'])\n",
        ")\n",
        "# я пытался сделать через data.groupby(['split']), но в этой версии pandas возвращает tuple\n",
        "data , data_predict = [x for _, x in data.groupby(data['split'] == 'test')]\n",
        "\n",
        "# data , data_predict = [x for _, x in data.groupby(data['split'] == 'test')]\n",
        "data = data.drop('split', axis=1)\n",
        "data_predict = data_predict.drop('split', axis=1)"
      ]
    },
    {
      "cell_type": "markdown",
      "metadata": {
        "id": "eO2CIqvWKD4t"
      },
      "source": [
        "**Посмотрим на распределение целевой переменной**"
      ]
    },
    {
      "cell_type": "code",
      "execution_count": 33,
      "metadata": {
        "colab": {
          "base_uri": "https://localhost:8080/"
        },
        "id": "F7WZDj4YKKPB",
        "outputId": "a146de94-7869-48f7-83bb-c9b4af729828"
      },
      "outputs": [
        {
          "output_type": "execute_result",
          "data": {
            "text/plain": [
              "4.0    1338499\n",
              "2.0      78479\n",
              "0.0      67396\n",
              "3.0      67165\n",
              "1.0      10747\n",
              "Name: target, dtype: int64"
            ]
          },
          "metadata": {},
          "execution_count": 33
        }
      ],
      "source": [
        "data['target'].value_counts()"
      ]
    },
    {
      "cell_type": "markdown",
      "metadata": {
        "id": "2o8aWHo5Fbg3"
      },
      "source": [
        "<div class=\"alert alert-warning\", style=\"border:solid coral 3px; padding: 20px\">\n",
        "    <font size=\"4\", color=\"DimGrey\"><b>⚠️ Комментарий ревьюера</b></font>\n",
        "    <br><br>\n",
        "    <font size=\"3\", color=\"black\">\n",
        "        Исторически уже так сложилось, что матрица с признаками обозначается за X (заглавной), т.к. это матрица, а y (прописной), т.к. в базовых задачах - вектор. Кароче, X и y - устоявшиеся обозначения!\n",
        "    </font>\n",
        "    <br><br>\n",
        "    <font size=\"3\", color=\"black\">\n",
        "        Везде, где есть влияние случайности стоит фиксировать random_state.\n",
        "    </font>\n",
        "<div>"
      ]
    },
    {
      "cell_type": "markdown",
      "source": [
        "**Нормирование при помощи числовых признаков**"
      ],
      "metadata": {
        "id": "oUh1ZsFOI2zd"
      }
    },
    {
      "cell_type": "code",
      "source": [
        "sc = StandardScaler()\n",
        "numeric_data = pd.DataFrame(sc.fit_transform(data[num_cols]),columns=num_cols,index=data.index)"
      ],
      "metadata": {
        "id": "uFDp6BvLio1e"
      },
      "execution_count": 34,
      "outputs": []
    },
    {
      "cell_type": "markdown",
      "source": [
        "**Кодирование при помощи one-hot encoding**"
      ],
      "metadata": {
        "id": "qURit7G6IM5k"
      }
    },
    {
      "cell_type": "code",
      "source": [
        "categorial_data = data[cat_cols]\n",
        "print('Форма датасета с категориальными признаками:')\n",
        "print(' до кодирования - ', categorial_data.shape)\n",
        "dummy_features = pd.get_dummies(data = categorial_data, columns = cat_cols)\n",
        "print(' после кодирования - ', dummy_features.shape)"
      ],
      "metadata": {
        "colab": {
          "base_uri": "https://localhost:8080/"
        },
        "id": "IrDwQY4ZIR6h",
        "outputId": "60570856-c324-4eea-c62b-2c0505b5bb38"
      },
      "execution_count": 35,
      "outputs": [
        {
          "output_type": "stream",
          "name": "stdout",
          "text": [
            "Форма датасета с категориальными признаками:\n",
            " до кодирования -  (1562286, 5)\n",
            " после кодирования -  (1562286, 26)\n"
          ]
        }
      ]
    },
    {
      "cell_type": "code",
      "source": [
        "X = pd.concat([numeric_data, dummy_features], axis=1)\n",
        "X.head()"
      ],
      "metadata": {
        "colab": {
          "base_uri": "https://localhost:8080/",
          "height": 299
        },
        "id": "Ia_EXn82IbzF",
        "outputId": "fd2928a3-352d-484a-b8c6-ac67b0872dcc"
      },
      "execution_count": 36,
      "outputs": [
        {
          "output_type": "execute_result",
          "data": {
            "text/plain": [
              "   start_time_local  duration  num_b_length  time_key  time_zone_-1  \\\n",
              "0          1.497957 -0.199497     -0.018763       0.0             0   \n",
              "1          0.886654 -0.199497     -0.018763       0.0             0   \n",
              "2         -0.759946 -0.199497     -0.018763       0.0             0   \n",
              "3         -0.684600 -0.199497     -0.018763       0.0             0   \n",
              "4          0.167163 -0.199497     -0.018763       0.0             0   \n",
              "\n",
              "   time_zone_0  time_zone_1  time_zone_2  time_zone_3  time_zone_4  ...  \\\n",
              "0            0            0            0            1            0  ...   \n",
              "1            0            0            0            1            0  ...   \n",
              "2            1            0            0            0            0  ...   \n",
              "3            0            0            0            1            0  ...   \n",
              "4            1            0            0            0            0  ...   \n",
              "\n",
              "   zero_call_flg_0  zero_call_flg_1  zero_call_flg_2  zero_call_flg_3  \\\n",
              "0                0                0                0                1   \n",
              "1                0                0                0                0   \n",
              "2                0                0                0                0   \n",
              "3                1                0                0                0   \n",
              "4                0                0                0                0   \n",
              "\n",
              "   zero_call_flg_4  zero_call_flg_5  source_b_0  source_b_1  source_f_0  \\\n",
              "0                0                0           1           0           0   \n",
              "1                0                1           1           0           0   \n",
              "2                0                1           1           0           0   \n",
              "3                0                0           1           0           0   \n",
              "4                0                1           0           1           1   \n",
              "\n",
              "   source_f_1  \n",
              "0           1  \n",
              "1           1  \n",
              "2           1  \n",
              "3           1  \n",
              "4           0  \n",
              "\n",
              "[5 rows x 30 columns]"
            ],
            "text/html": [
              "\n",
              "  <div id=\"df-f4e6a929-515a-444b-b7a3-dcd28774e445\">\n",
              "    <div class=\"colab-df-container\">\n",
              "      <div>\n",
              "<style scoped>\n",
              "    .dataframe tbody tr th:only-of-type {\n",
              "        vertical-align: middle;\n",
              "    }\n",
              "\n",
              "    .dataframe tbody tr th {\n",
              "        vertical-align: top;\n",
              "    }\n",
              "\n",
              "    .dataframe thead th {\n",
              "        text-align: right;\n",
              "    }\n",
              "</style>\n",
              "<table border=\"1\" class=\"dataframe\">\n",
              "  <thead>\n",
              "    <tr style=\"text-align: right;\">\n",
              "      <th></th>\n",
              "      <th>start_time_local</th>\n",
              "      <th>duration</th>\n",
              "      <th>num_b_length</th>\n",
              "      <th>time_key</th>\n",
              "      <th>time_zone_-1</th>\n",
              "      <th>time_zone_0</th>\n",
              "      <th>time_zone_1</th>\n",
              "      <th>time_zone_2</th>\n",
              "      <th>time_zone_3</th>\n",
              "      <th>time_zone_4</th>\n",
              "      <th>...</th>\n",
              "      <th>zero_call_flg_0</th>\n",
              "      <th>zero_call_flg_1</th>\n",
              "      <th>zero_call_flg_2</th>\n",
              "      <th>zero_call_flg_3</th>\n",
              "      <th>zero_call_flg_4</th>\n",
              "      <th>zero_call_flg_5</th>\n",
              "      <th>source_b_0</th>\n",
              "      <th>source_b_1</th>\n",
              "      <th>source_f_0</th>\n",
              "      <th>source_f_1</th>\n",
              "    </tr>\n",
              "  </thead>\n",
              "  <tbody>\n",
              "    <tr>\n",
              "      <th>0</th>\n",
              "      <td>1.497957</td>\n",
              "      <td>-0.199497</td>\n",
              "      <td>-0.018763</td>\n",
              "      <td>0.0</td>\n",
              "      <td>0</td>\n",
              "      <td>0</td>\n",
              "      <td>0</td>\n",
              "      <td>0</td>\n",
              "      <td>1</td>\n",
              "      <td>0</td>\n",
              "      <td>...</td>\n",
              "      <td>0</td>\n",
              "      <td>0</td>\n",
              "      <td>0</td>\n",
              "      <td>1</td>\n",
              "      <td>0</td>\n",
              "      <td>0</td>\n",
              "      <td>1</td>\n",
              "      <td>0</td>\n",
              "      <td>0</td>\n",
              "      <td>1</td>\n",
              "    </tr>\n",
              "    <tr>\n",
              "      <th>1</th>\n",
              "      <td>0.886654</td>\n",
              "      <td>-0.199497</td>\n",
              "      <td>-0.018763</td>\n",
              "      <td>0.0</td>\n",
              "      <td>0</td>\n",
              "      <td>0</td>\n",
              "      <td>0</td>\n",
              "      <td>0</td>\n",
              "      <td>1</td>\n",
              "      <td>0</td>\n",
              "      <td>...</td>\n",
              "      <td>0</td>\n",
              "      <td>0</td>\n",
              "      <td>0</td>\n",
              "      <td>0</td>\n",
              "      <td>0</td>\n",
              "      <td>1</td>\n",
              "      <td>1</td>\n",
              "      <td>0</td>\n",
              "      <td>0</td>\n",
              "      <td>1</td>\n",
              "    </tr>\n",
              "    <tr>\n",
              "      <th>2</th>\n",
              "      <td>-0.759946</td>\n",
              "      <td>-0.199497</td>\n",
              "      <td>-0.018763</td>\n",
              "      <td>0.0</td>\n",
              "      <td>0</td>\n",
              "      <td>1</td>\n",
              "      <td>0</td>\n",
              "      <td>0</td>\n",
              "      <td>0</td>\n",
              "      <td>0</td>\n",
              "      <td>...</td>\n",
              "      <td>0</td>\n",
              "      <td>0</td>\n",
              "      <td>0</td>\n",
              "      <td>0</td>\n",
              "      <td>0</td>\n",
              "      <td>1</td>\n",
              "      <td>1</td>\n",
              "      <td>0</td>\n",
              "      <td>0</td>\n",
              "      <td>1</td>\n",
              "    </tr>\n",
              "    <tr>\n",
              "      <th>3</th>\n",
              "      <td>-0.684600</td>\n",
              "      <td>-0.199497</td>\n",
              "      <td>-0.018763</td>\n",
              "      <td>0.0</td>\n",
              "      <td>0</td>\n",
              "      <td>0</td>\n",
              "      <td>0</td>\n",
              "      <td>0</td>\n",
              "      <td>1</td>\n",
              "      <td>0</td>\n",
              "      <td>...</td>\n",
              "      <td>1</td>\n",
              "      <td>0</td>\n",
              "      <td>0</td>\n",
              "      <td>0</td>\n",
              "      <td>0</td>\n",
              "      <td>0</td>\n",
              "      <td>1</td>\n",
              "      <td>0</td>\n",
              "      <td>0</td>\n",
              "      <td>1</td>\n",
              "    </tr>\n",
              "    <tr>\n",
              "      <th>4</th>\n",
              "      <td>0.167163</td>\n",
              "      <td>-0.199497</td>\n",
              "      <td>-0.018763</td>\n",
              "      <td>0.0</td>\n",
              "      <td>0</td>\n",
              "      <td>1</td>\n",
              "      <td>0</td>\n",
              "      <td>0</td>\n",
              "      <td>0</td>\n",
              "      <td>0</td>\n",
              "      <td>...</td>\n",
              "      <td>0</td>\n",
              "      <td>0</td>\n",
              "      <td>0</td>\n",
              "      <td>0</td>\n",
              "      <td>0</td>\n",
              "      <td>1</td>\n",
              "      <td>0</td>\n",
              "      <td>1</td>\n",
              "      <td>1</td>\n",
              "      <td>0</td>\n",
              "    </tr>\n",
              "  </tbody>\n",
              "</table>\n",
              "<p>5 rows × 30 columns</p>\n",
              "</div>\n",
              "      <button class=\"colab-df-convert\" onclick=\"convertToInteractive('df-f4e6a929-515a-444b-b7a3-dcd28774e445')\"\n",
              "              title=\"Convert this dataframe to an interactive table.\"\n",
              "              style=\"display:none;\">\n",
              "        \n",
              "  <svg xmlns=\"http://www.w3.org/2000/svg\" height=\"24px\"viewBox=\"0 0 24 24\"\n",
              "       width=\"24px\">\n",
              "    <path d=\"M0 0h24v24H0V0z\" fill=\"none\"/>\n",
              "    <path d=\"M18.56 5.44l.94 2.06.94-2.06 2.06-.94-2.06-.94-.94-2.06-.94 2.06-2.06.94zm-11 1L8.5 8.5l.94-2.06 2.06-.94-2.06-.94L8.5 2.5l-.94 2.06-2.06.94zm10 10l.94 2.06.94-2.06 2.06-.94-2.06-.94-.94-2.06-.94 2.06-2.06.94z\"/><path d=\"M17.41 7.96l-1.37-1.37c-.4-.4-.92-.59-1.43-.59-.52 0-1.04.2-1.43.59L10.3 9.45l-7.72 7.72c-.78.78-.78 2.05 0 2.83L4 21.41c.39.39.9.59 1.41.59.51 0 1.02-.2 1.41-.59l7.78-7.78 2.81-2.81c.8-.78.8-2.07 0-2.86zM5.41 20L4 18.59l7.72-7.72 1.47 1.35L5.41 20z\"/>\n",
              "  </svg>\n",
              "      </button>\n",
              "      \n",
              "  <style>\n",
              "    .colab-df-container {\n",
              "      display:flex;\n",
              "      flex-wrap:wrap;\n",
              "      gap: 12px;\n",
              "    }\n",
              "\n",
              "    .colab-df-convert {\n",
              "      background-color: #E8F0FE;\n",
              "      border: none;\n",
              "      border-radius: 50%;\n",
              "      cursor: pointer;\n",
              "      display: none;\n",
              "      fill: #1967D2;\n",
              "      height: 32px;\n",
              "      padding: 0 0 0 0;\n",
              "      width: 32px;\n",
              "    }\n",
              "\n",
              "    .colab-df-convert:hover {\n",
              "      background-color: #E2EBFA;\n",
              "      box-shadow: 0px 1px 2px rgba(60, 64, 67, 0.3), 0px 1px 3px 1px rgba(60, 64, 67, 0.15);\n",
              "      fill: #174EA6;\n",
              "    }\n",
              "\n",
              "    [theme=dark] .colab-df-convert {\n",
              "      background-color: #3B4455;\n",
              "      fill: #D2E3FC;\n",
              "    }\n",
              "\n",
              "    [theme=dark] .colab-df-convert:hover {\n",
              "      background-color: #434B5C;\n",
              "      box-shadow: 0px 1px 3px 1px rgba(0, 0, 0, 0.15);\n",
              "      filter: drop-shadow(0px 1px 2px rgba(0, 0, 0, 0.3));\n",
              "      fill: #FFFFFF;\n",
              "    }\n",
              "  </style>\n",
              "\n",
              "      <script>\n",
              "        const buttonEl =\n",
              "          document.querySelector('#df-f4e6a929-515a-444b-b7a3-dcd28774e445 button.colab-df-convert');\n",
              "        buttonEl.style.display =\n",
              "          google.colab.kernel.accessAllowed ? 'block' : 'none';\n",
              "\n",
              "        async function convertToInteractive(key) {\n",
              "          const element = document.querySelector('#df-f4e6a929-515a-444b-b7a3-dcd28774e445');\n",
              "          const dataTable =\n",
              "            await google.colab.kernel.invokeFunction('convertToInteractive',\n",
              "                                                     [key], {});\n",
              "          if (!dataTable) return;\n",
              "\n",
              "          const docLinkHtml = 'Like what you see? Visit the ' +\n",
              "            '<a target=\"_blank\" href=https://colab.research.google.com/notebooks/data_table.ipynb>data table notebook</a>'\n",
              "            + ' to learn more about interactive tables.';\n",
              "          element.innerHTML = '';\n",
              "          dataTable['output_type'] = 'display_data';\n",
              "          await google.colab.output.renderOutput(dataTable, element);\n",
              "          const docLink = document.createElement('div');\n",
              "          docLink.innerHTML = docLinkHtml;\n",
              "          element.appendChild(docLink);\n",
              "        }\n",
              "      </script>\n",
              "    </div>\n",
              "  </div>\n",
              "  "
            ]
          },
          "metadata": {},
          "execution_count": 36
        }
      ]
    },
    {
      "cell_type": "code",
      "execution_count": 37,
      "metadata": {
        "id": "jGOhQ9H56gUi"
      },
      "outputs": [],
      "source": [
        "# TODO: ещё здесь ты учишь модель на id. на одном дне это ещё может и сработать, но что делать с новыми абонентами?\n",
        "y = data['target']\n",
        "X = data.drop('target', axis=1)\n",
        "X_train, X_test, y_train, y_test = train_test_split(\n",
        "    X, y,\n",
        "    test_size=0.2,\n",
        "    random_state=42,\n",
        ")"
      ]
    },
    {
      "cell_type": "code",
      "execution_count": 38,
      "metadata": {
        "id": "2AWsYFBXBvh-"
      },
      "outputs": [],
      "source": [
        "# Создание объекта дерева решений\n",
        "clf = DecisionTreeClassifier()\n",
        "clf = clf.fit(X_train[cols_withot_ids], y_train)\n",
        "# Предсказание ответа для тестового набора данных\n",
        "y_pred = clf.predict(X_test[cols_withot_ids])"
      ]
    },
    {
      "cell_type": "markdown",
      "metadata": {
        "id": "yfXoevHTCG5F"
      },
      "source": [
        "**Оценка точности**"
      ]
    },
    {
      "cell_type": "code",
      "execution_count": 39,
      "metadata": {
        "id": "sXE1-LlbCJ56",
        "colab": {
          "base_uri": "https://localhost:8080/"
        },
        "outputId": "0eca8005-ff65-49af-d523-ff1d4ed5ab72"
      },
      "outputs": [
        {
          "output_type": "stream",
          "name": "stdout",
          "text": [
            "Accuracy: 0.8393288057914984\n"
          ]
        }
      ],
      "source": [
        "print(\"Accuracy:\",metrics.accuracy_score(y_test, y_pred))"
      ]
    },
    {
      "cell_type": "markdown",
      "metadata": {
        "id": "69YFQuhX-d3F"
      },
      "source": [
        "**Найдем наилучшие параметры при помощи кросс-валидации**"
      ]
    },
    {
      "cell_type": "code",
      "execution_count": 40,
      "metadata": {
        "id": "YLBheNjwFbg6",
        "colab": {
          "base_uri": "https://localhost:8080/"
        },
        "outputId": "296d02e5-f58c-419b-a19f-46f0763d99ef"
      },
      "outputs": [
        {
          "output_type": "stream",
          "name": "stdout",
          "text": [
            "Fitting 5 folds for each of 8 candidates, totalling 40 fits\n"
          ]
        }
      ],
      "source": [
        "clf_best = GridSearchCV(\n",
        "    DecisionTreeClassifier(),\n",
        "    param_grid = {\n",
        "        'max_depth': range(3, 5),\n",
        "        'min_samples_split': range(2, 4),\n",
        "        'criterion': ['gini', 'entropy']\n",
        "    },\n",
        "    n_jobs=-1,  # ознначает, что будут использоваться все процессоры для параллельных вычислений\n",
        "    verbose=3, # TODO: спросить, почему не переобучает\n",
        "    \n",
        "    refit = True\n",
        ")\n",
        "clf_best.fit(X_train[cols_withot_ids], y_train)\n",
        "None  "
      ]
    },
    {
      "cell_type": "code",
      "execution_count": 41,
      "metadata": {
        "id": "IS9CeJtncHMV",
        "colab": {
          "base_uri": "https://localhost:8080/",
          "height": 657
        },
        "outputId": "624e3594-b382-41db-b07c-71d278089dff"
      },
      "outputs": [
        {
          "output_type": "execute_result",
          "data": {
            "text/plain": [
              "<graphviz.files.Source at 0x7f3cc8aa1690>"
            ],
            "image/svg+xml": "<?xml version=\"1.0\" encoding=\"UTF-8\" standalone=\"no\"?>\n<!DOCTYPE svg PUBLIC \"-//W3C//DTD SVG 1.1//EN\"\n \"http://www.w3.org/Graphics/SVG/1.1/DTD/svg11.dtd\">\n<!-- Generated by graphviz version 2.40.1 (20161225.0304)\n -->\n<!-- Title: Tree Pages: 1 -->\n<svg width=\"4310pt\" height=\"461pt\"\n viewBox=\"0.00 0.00 4310.00 461.00\" xmlns=\"http://www.w3.org/2000/svg\" xmlns:xlink=\"http://www.w3.org/1999/xlink\">\n<g id=\"graph0\" class=\"graph\" transform=\"scale(1 1) rotate(0) translate(4 457)\">\n<title>Tree</title>\n<polygon fill=\"#ffffff\" stroke=\"transparent\" points=\"-4,4 -4,-457 4306,-457 4306,4 -4,4\"/>\n<!-- 0 -->\n<g id=\"node1\" class=\"node\">\n<title>0</title>\n<polygon fill=\"none\" stroke=\"#000000\" points=\"2401,-453 2081,-453 2081,-389 2401,-389 2401,-453\"/>\n<text text-anchor=\"start\" x=\"2210.5\" y=\"-438.8\" font-family=\"Helvetica,sans-Serif\" font-size=\"14.00\" fill=\"#000000\">X</text>\n<text text-anchor=\"start\" x=\"2220.5\" y=\"-438.8\" font-family=\"Helvetica,sans-Serif\" baseline-shift=\"sub\" font-size=\"14.00\" fill=\"#000000\">1</text>\n<text text-anchor=\"start\" x=\"2227.5\" y=\"-438.8\" font-family=\"Helvetica,sans-Serif\" font-size=\"14.00\" fill=\"#000000\"> ≤ 42.5</text>\n<text text-anchor=\"start\" x=\"2190\" y=\"-424.8\" font-family=\"Helvetica,sans-Serif\" font-size=\"14.00\" fill=\"#000000\">entropy = 0.848</text>\n<text text-anchor=\"start\" x=\"2176.5\" y=\"-410.8\" font-family=\"Helvetica,sans-Serif\" font-size=\"14.00\" fill=\"#000000\">samples = 1249828</text>\n<text text-anchor=\"start\" x=\"2089\" y=\"-396.8\" font-family=\"Helvetica,sans-Serif\" font-size=\"14.00\" fill=\"#000000\">value = [54028, 8593, 62748, 53705, 1070754]</text>\n</g>\n<!-- 1 -->\n<g id=\"node2\" class=\"node\">\n<title>1</title>\n<polygon fill=\"none\" stroke=\"#000000\" points=\"1857,-353 1537,-353 1537,-289 1857,-289 1857,-353\"/>\n<text text-anchor=\"start\" x=\"1670.5\" y=\"-338.8\" font-family=\"Helvetica,sans-Serif\" font-size=\"14.00\" fill=\"#000000\">X</text>\n<text text-anchor=\"start\" x=\"1680.5\" y=\"-338.8\" font-family=\"Helvetica,sans-Serif\" baseline-shift=\"sub\" font-size=\"14.00\" fill=\"#000000\">8</text>\n<text text-anchor=\"start\" x=\"1687.5\" y=\"-338.8\" font-family=\"Helvetica,sans-Serif\" font-size=\"14.00\" fill=\"#000000\"> ≤ 0.5</text>\n<text text-anchor=\"start\" x=\"1646\" y=\"-324.8\" font-family=\"Helvetica,sans-Serif\" font-size=\"14.00\" fill=\"#000000\">entropy = 0.642</text>\n<text text-anchor=\"start\" x=\"1632.5\" y=\"-310.8\" font-family=\"Helvetica,sans-Serif\" font-size=\"14.00\" fill=\"#000000\">samples = 1145158</text>\n<text text-anchor=\"start\" x=\"1545\" y=\"-296.8\" font-family=\"Helvetica,sans-Serif\" font-size=\"14.00\" fill=\"#000000\">value = [37989, 5439, 47407, 23609, 1030714]</text>\n</g>\n<!-- 0&#45;&gt;1 -->\n<g id=\"edge1\" class=\"edge\">\n<title>0&#45;&gt;1</title>\n<path fill=\"none\" stroke=\"#000000\" d=\"M2080.7244,-391.5376C2013.5123,-379.1824 1935.2843,-364.8023 1867.0601,-352.261\"/>\n<polygon fill=\"#000000\" stroke=\"#000000\" points=\"1867.5373,-348.7902 1857.0693,-350.4245 1866.2717,-355.6748 1867.5373,-348.7902\"/>\n<text text-anchor=\"middle\" x=\"1871.2596\" y=\"-367.3069\" font-family=\"Helvetica,sans-Serif\" font-size=\"14.00\" fill=\"#000000\">True</text>\n</g>\n<!-- 16 -->\n<g id=\"node17\" class=\"node\">\n<title>16</title>\n<polygon fill=\"none\" stroke=\"#000000\" points=\"2933.5,-353 2630.5,-353 2630.5,-289 2933.5,-289 2933.5,-353\"/>\n<text text-anchor=\"start\" x=\"2755.5\" y=\"-338.8\" font-family=\"Helvetica,sans-Serif\" font-size=\"14.00\" fill=\"#000000\">X</text>\n<text text-anchor=\"start\" x=\"2765.5\" y=\"-338.8\" font-family=\"Helvetica,sans-Serif\" baseline-shift=\"sub\" font-size=\"14.00\" fill=\"#000000\">7</text>\n<text text-anchor=\"start\" x=\"2772.5\" y=\"-338.8\" font-family=\"Helvetica,sans-Serif\" font-size=\"14.00\" fill=\"#000000\"> ≤ 0.5</text>\n<text text-anchor=\"start\" x=\"2735\" y=\"-324.8\" font-family=\"Helvetica,sans-Serif\" font-size=\"14.00\" fill=\"#000000\">entropy = 2.02</text>\n<text text-anchor=\"start\" x=\"2721.5\" y=\"-310.8\" font-family=\"Helvetica,sans-Serif\" font-size=\"14.00\" fill=\"#000000\">samples = 104670</text>\n<text text-anchor=\"start\" x=\"2638.5\" y=\"-296.8\" font-family=\"Helvetica,sans-Serif\" font-size=\"14.00\" fill=\"#000000\">value = [16039, 3154, 15341, 30096, 40040]</text>\n</g>\n<!-- 0&#45;&gt;16 -->\n<g id=\"edge16\" class=\"edge\">\n<title>0&#45;&gt;16</title>\n<path fill=\"none\" stroke=\"#000000\" d=\"M2401.122,-391.4026C2470.1681,-378.6399 2550.7954,-363.7365 2620.0444,-350.9363\"/>\n<polygon fill=\"#000000\" stroke=\"#000000\" points=\"2620.979,-354.323 2630.1762,-349.0636 2619.7066,-347.4396 2620.979,-354.323\"/>\n<text text-anchor=\"middle\" x=\"2616.0062\" y=\"-365.9599\" font-family=\"Helvetica,sans-Serif\" font-size=\"14.00\" fill=\"#000000\">False</text>\n</g>\n<!-- 2 -->\n<g id=\"node3\" class=\"node\">\n<title>2</title>\n<polygon fill=\"none\" stroke=\"#000000\" points=\"977.5,-253 682.5,-253 682.5,-189 977.5,-189 977.5,-253\"/>\n<text text-anchor=\"start\" x=\"803.5\" y=\"-238.8\" font-family=\"Helvetica,sans-Serif\" font-size=\"14.00\" fill=\"#000000\">X</text>\n<text text-anchor=\"start\" x=\"813.5\" y=\"-238.8\" font-family=\"Helvetica,sans-Serif\" baseline-shift=\"sub\" font-size=\"14.00\" fill=\"#000000\">6</text>\n<text text-anchor=\"start\" x=\"820.5\" y=\"-238.8\" font-family=\"Helvetica,sans-Serif\" font-size=\"14.00\" fill=\"#000000\"> ≤ 3.5</text>\n<text text-anchor=\"start\" x=\"779\" y=\"-224.8\" font-family=\"Helvetica,sans-Serif\" font-size=\"14.00\" fill=\"#000000\">entropy = 0.948</text>\n<text text-anchor=\"start\" x=\"769.5\" y=\"-210.8\" font-family=\"Helvetica,sans-Serif\" font-size=\"14.00\" fill=\"#000000\">samples = 211314</text>\n<text text-anchor=\"start\" x=\"690.5\" y=\"-196.8\" font-family=\"Helvetica,sans-Serif\" font-size=\"14.00\" fill=\"#000000\">value = [27287, 5160, 4434, 2548, 171885]</text>\n</g>\n<!-- 1&#45;&gt;2 -->\n<g id=\"edge2\" class=\"edge\">\n<title>1&#45;&gt;2</title>\n<path fill=\"none\" stroke=\"#000000\" d=\"M1536.9685,-302.5419C1380.4092,-284.4843 1143.4178,-257.1497 987.6726,-239.186\"/>\n<polygon fill=\"#000000\" stroke=\"#000000\" points=\"987.8684,-235.6855 977.5332,-238.0165 987.0663,-242.6394 987.8684,-235.6855\"/>\n</g>\n<!-- 9 -->\n<g id=\"node10\" class=\"node\">\n<title>9</title>\n<polygon fill=\"none\" stroke=\"#000000\" points=\"1848.5,-253 1545.5,-253 1545.5,-189 1848.5,-189 1848.5,-253\"/>\n<text text-anchor=\"start\" x=\"1666.5\" y=\"-238.8\" font-family=\"Helvetica,sans-Serif\" font-size=\"14.00\" fill=\"#000000\">X</text>\n<text text-anchor=\"start\" x=\"1676.5\" y=\"-238.8\" font-family=\"Helvetica,sans-Serif\" baseline-shift=\"sub\" font-size=\"14.00\" fill=\"#000000\">1</text>\n<text text-anchor=\"start\" x=\"1683.5\" y=\"-238.8\" font-family=\"Helvetica,sans-Serif\" font-size=\"14.00\" fill=\"#000000\"> ≤ 16.5</text>\n<text text-anchor=\"start\" x=\"1646\" y=\"-224.8\" font-family=\"Helvetica,sans-Serif\" font-size=\"14.00\" fill=\"#000000\">entropy = 0.516</text>\n<text text-anchor=\"start\" x=\"1636.5\" y=\"-210.8\" font-family=\"Helvetica,sans-Serif\" font-size=\"14.00\" fill=\"#000000\">samples = 933844</text>\n<text text-anchor=\"start\" x=\"1553.5\" y=\"-196.8\" font-family=\"Helvetica,sans-Serif\" font-size=\"14.00\" fill=\"#000000\">value = [10702, 279, 42973, 21061, 858829]</text>\n</g>\n<!-- 1&#45;&gt;9 -->\n<g id=\"edge9\" class=\"edge\">\n<title>1&#45;&gt;9</title>\n<path fill=\"none\" stroke=\"#000000\" d=\"M1697,-288.8089C1697,-280.6906 1697,-271.8517 1697,-263.3186\"/>\n<polygon fill=\"#000000\" stroke=\"#000000\" points=\"1700.5001,-263.1307 1697,-253.1308 1693.5001,-263.1308 1700.5001,-263.1307\"/>\n</g>\n<!-- 3 -->\n<g id=\"node4\" class=\"node\">\n<title>3</title>\n<polygon fill=\"none\" stroke=\"#000000\" points=\"538,-153 260,-153 260,-89 538,-89 538,-153\"/>\n<text text-anchor=\"start\" x=\"372.5\" y=\"-138.8\" font-family=\"Helvetica,sans-Serif\" font-size=\"14.00\" fill=\"#000000\">X</text>\n<text text-anchor=\"start\" x=\"382.5\" y=\"-138.8\" font-family=\"Helvetica,sans-Serif\" baseline-shift=\"sub\" font-size=\"14.00\" fill=\"#000000\">4</text>\n<text text-anchor=\"start\" x=\"389.5\" y=\"-138.8\" font-family=\"Helvetica,sans-Serif\" font-size=\"14.00\" fill=\"#000000\"> ≤ 3.5</text>\n<text text-anchor=\"start\" x=\"348\" y=\"-124.8\" font-family=\"Helvetica,sans-Serif\" font-size=\"14.00\" fill=\"#000000\">entropy = 1.599</text>\n<text text-anchor=\"start\" x=\"343\" y=\"-110.8\" font-family=\"Helvetica,sans-Serif\" font-size=\"14.00\" fill=\"#000000\">samples = 33408</text>\n<text text-anchor=\"start\" x=\"268\" y=\"-96.8\" font-family=\"Helvetica,sans-Serif\" font-size=\"14.00\" fill=\"#000000\">value = [15518, 3071, 419, 1083, 13317]</text>\n</g>\n<!-- 2&#45;&gt;3 -->\n<g id=\"edge3\" class=\"edge\">\n<title>2&#45;&gt;3</title>\n<path fill=\"none\" stroke=\"#000000\" d=\"M691.8505,-188.9467C645.6463,-178.2265 593.9724,-166.2372 547.0447,-155.3491\"/>\n<polygon fill=\"#000000\" stroke=\"#000000\" points=\"547.6389,-151.8941 537.1066,-153.0433 546.0568,-158.713 547.6389,-151.8941\"/>\n</g>\n<!-- 6 -->\n<g id=\"node7\" class=\"node\">\n<title>6</title>\n<polygon fill=\"none\" stroke=\"#000000\" points=\"977.5,-153 682.5,-153 682.5,-89 977.5,-89 977.5,-153\"/>\n<text text-anchor=\"start\" x=\"803.5\" y=\"-138.8\" font-family=\"Helvetica,sans-Serif\" font-size=\"14.00\" fill=\"#000000\">X</text>\n<text text-anchor=\"start\" x=\"813.5\" y=\"-138.8\" font-family=\"Helvetica,sans-Serif\" baseline-shift=\"sub\" font-size=\"14.00\" fill=\"#000000\">5</text>\n<text text-anchor=\"start\" x=\"820.5\" y=\"-138.8\" font-family=\"Helvetica,sans-Serif\" font-size=\"14.00\" fill=\"#000000\"> ≤ 0.5</text>\n<text text-anchor=\"start\" x=\"779\" y=\"-124.8\" font-family=\"Helvetica,sans-Serif\" font-size=\"14.00\" fill=\"#000000\">entropy = 0.663</text>\n<text text-anchor=\"start\" x=\"769.5\" y=\"-110.8\" font-family=\"Helvetica,sans-Serif\" font-size=\"14.00\" fill=\"#000000\">samples = 177906</text>\n<text text-anchor=\"start\" x=\"690.5\" y=\"-96.8\" font-family=\"Helvetica,sans-Serif\" font-size=\"14.00\" fill=\"#000000\">value = [11769, 2089, 4015, 1465, 158568]</text>\n</g>\n<!-- 2&#45;&gt;6 -->\n<g id=\"edge6\" class=\"edge\">\n<title>2&#45;&gt;6</title>\n<path fill=\"none\" stroke=\"#000000\" d=\"M830,-188.8089C830,-180.6906 830,-171.8517 830,-163.3186\"/>\n<polygon fill=\"#000000\" stroke=\"#000000\" points=\"833.5001,-163.1307 830,-153.1308 826.5001,-163.1308 833.5001,-163.1307\"/>\n</g>\n<!-- 4 -->\n<g id=\"node5\" class=\"node\">\n<title>4</title>\n<polygon fill=\"none\" stroke=\"#000000\" points=\"270,-53 0,-53 0,0 270,0 270,-53\"/>\n<text text-anchor=\"start\" x=\"84\" y=\"-37.8\" font-family=\"Helvetica,sans-Serif\" font-size=\"14.00\" fill=\"#000000\">entropy = 1.586</text>\n<text text-anchor=\"start\" x=\"79\" y=\"-22.8\" font-family=\"Helvetica,sans-Serif\" font-size=\"14.00\" fill=\"#000000\">samples = 27064</text>\n<text text-anchor=\"start\" x=\"8\" y=\"-7.8\" font-family=\"Helvetica,sans-Serif\" font-size=\"14.00\" fill=\"#000000\">value = [14654, 2583, 305, 1083, 8439]</text>\n</g>\n<!-- 3&#45;&gt;4 -->\n<g id=\"edge4\" class=\"edge\">\n<title>3&#45;&gt;4</title>\n<path fill=\"none\" stroke=\"#000000\" d=\"M309.2533,-88.8747C279.9761,-78.3949 247.5988,-66.8053 218.7775,-56.4885\"/>\n<polygon fill=\"#000000\" stroke=\"#000000\" points=\"219.7438,-53.117 209.1492,-53.0421 217.3847,-59.7075 219.7438,-53.117\"/>\n</g>\n<!-- 5 -->\n<g id=\"node6\" class=\"node\">\n<title>5</title>\n<polygon fill=\"none\" stroke=\"#000000\" points=\"509.5,-53 288.5,-53 288.5,0 509.5,0 509.5,-53\"/>\n<text text-anchor=\"start\" x=\"348\" y=\"-37.8\" font-family=\"Helvetica,sans-Serif\" font-size=\"14.00\" fill=\"#000000\">entropy = 1.072</text>\n<text text-anchor=\"start\" x=\"347\" y=\"-22.8\" font-family=\"Helvetica,sans-Serif\" font-size=\"14.00\" fill=\"#000000\">samples = 6344</text>\n<text text-anchor=\"start\" x=\"296.5\" y=\"-7.8\" font-family=\"Helvetica,sans-Serif\" font-size=\"14.00\" fill=\"#000000\">value = [864, 488, 114, 0, 4878]</text>\n</g>\n<!-- 3&#45;&gt;5 -->\n<g id=\"edge5\" class=\"edge\">\n<title>3&#45;&gt;5</title>\n<path fill=\"none\" stroke=\"#000000\" d=\"M399,-88.7428C399,-80.6222 399,-71.8426 399,-63.5093\"/>\n<polygon fill=\"#000000\" stroke=\"#000000\" points=\"402.5001,-63.2758 399,-53.2759 395.5001,-63.2759 402.5001,-63.2758\"/>\n</g>\n<!-- 7 -->\n<g id=\"node8\" class=\"node\">\n<title>7</title>\n<polygon fill=\"none\" stroke=\"#000000\" points=\"806,-53 528,-53 528,0 806,0 806,-53\"/>\n<text text-anchor=\"start\" x=\"616\" y=\"-37.8\" font-family=\"Helvetica,sans-Serif\" font-size=\"14.00\" fill=\"#000000\">entropy = 0.912</text>\n<text text-anchor=\"start\" x=\"611\" y=\"-22.8\" font-family=\"Helvetica,sans-Serif\" font-size=\"14.00\" fill=\"#000000\">samples = 80935</text>\n<text text-anchor=\"start\" x=\"536\" y=\"-7.8\" font-family=\"Helvetica,sans-Serif\" font-size=\"14.00\" fill=\"#000000\">value = [10371, 1769, 1618, 784, 66393]</text>\n</g>\n<!-- 6&#45;&gt;7 -->\n<g id=\"edge7\" class=\"edge\">\n<title>6&#45;&gt;7</title>\n<path fill=\"none\" stroke=\"#000000\" d=\"M774.3605,-88.7428C757.3181,-78.8624 738.5927,-68.0062 721.619,-58.1656\"/>\n<polygon fill=\"#000000\" stroke=\"#000000\" points=\"723.3274,-55.1104 712.9207,-53.1227 719.8164,-61.1663 723.3274,-55.1104\"/>\n</g>\n<!-- 8 -->\n<g id=\"node9\" class=\"node\">\n<title>8</title>\n<polygon fill=\"none\" stroke=\"#000000\" points=\"1086,-53 824,-53 824,0 1086,0 1086,-53\"/>\n<text text-anchor=\"start\" x=\"904\" y=\"-37.8\" font-family=\"Helvetica,sans-Serif\" font-size=\"14.00\" fill=\"#000000\">entropy = 0.367</text>\n<text text-anchor=\"start\" x=\"899\" y=\"-22.8\" font-family=\"Helvetica,sans-Serif\" font-size=\"14.00\" fill=\"#000000\">samples = 96971</text>\n<text text-anchor=\"start\" x=\"832\" y=\"-7.8\" font-family=\"Helvetica,sans-Serif\" font-size=\"14.00\" fill=\"#000000\">value = [1398, 320, 2397, 681, 92175]</text>\n</g>\n<!-- 6&#45;&gt;8 -->\n<g id=\"edge8\" class=\"edge\">\n<title>6&#45;&gt;8</title>\n<path fill=\"none\" stroke=\"#000000\" d=\"M872.6683,-88.7428C885.2,-79.2688 898.9184,-68.8977 911.5013,-59.385\"/>\n<polygon fill=\"#000000\" stroke=\"#000000\" points=\"913.7159,-62.0984 919.5822,-53.2759 909.4945,-56.5145 913.7159,-62.0984\"/>\n</g>\n<!-- 10 -->\n<g id=\"node11\" class=\"node\">\n<title>10</title>\n<polygon fill=\"none\" stroke=\"#000000\" points=\"1696.5,-153 1401.5,-153 1401.5,-89 1696.5,-89 1696.5,-153\"/>\n<text text-anchor=\"start\" x=\"1522.5\" y=\"-138.8\" font-family=\"Helvetica,sans-Serif\" font-size=\"14.00\" fill=\"#000000\">X</text>\n<text text-anchor=\"start\" x=\"1532.5\" y=\"-138.8\" font-family=\"Helvetica,sans-Serif\" baseline-shift=\"sub\" font-size=\"14.00\" fill=\"#000000\">4</text>\n<text text-anchor=\"start\" x=\"1539.5\" y=\"-138.8\" font-family=\"Helvetica,sans-Serif\" font-size=\"14.00\" fill=\"#000000\"> ≤ 2.5</text>\n<text text-anchor=\"start\" x=\"1498\" y=\"-124.8\" font-family=\"Helvetica,sans-Serif\" font-size=\"14.00\" fill=\"#000000\">entropy = 0.457</text>\n<text text-anchor=\"start\" x=\"1488.5\" y=\"-110.8\" font-family=\"Helvetica,sans-Serif\" font-size=\"14.00\" fill=\"#000000\">samples = 854043</text>\n<text text-anchor=\"start\" x=\"1409.5\" y=\"-96.8\" font-family=\"Helvetica,sans-Serif\" font-size=\"14.00\" fill=\"#000000\">value = [8141, 197, 35730, 14997, 794978]</text>\n</g>\n<!-- 9&#45;&gt;10 -->\n<g id=\"edge10\" class=\"edge\">\n<title>9&#45;&gt;10</title>\n<path fill=\"none\" stroke=\"#000000\" d=\"M1649.3572,-188.8089C1635.2295,-179.2632 1619.6275,-168.7213 1605.0203,-158.8516\"/>\n<polygon fill=\"#000000\" stroke=\"#000000\" points=\"1606.7989,-155.8293 1596.5535,-153.1308 1602.8799,-161.6294 1606.7989,-155.8293\"/>\n</g>\n<!-- 13 -->\n<g id=\"node14\" class=\"node\">\n<title>13</title>\n<polygon fill=\"none\" stroke=\"#000000\" points=\"1977,-153 1715,-153 1715,-89 1977,-89 1977,-153\"/>\n<text text-anchor=\"start\" x=\"1819.5\" y=\"-138.8\" font-family=\"Helvetica,sans-Serif\" font-size=\"14.00\" fill=\"#000000\">X</text>\n<text text-anchor=\"start\" x=\"1829.5\" y=\"-138.8\" font-family=\"Helvetica,sans-Serif\" baseline-shift=\"sub\" font-size=\"14.00\" fill=\"#000000\">4</text>\n<text text-anchor=\"start\" x=\"1836.5\" y=\"-138.8\" font-family=\"Helvetica,sans-Serif\" font-size=\"14.00\" fill=\"#000000\"> ≤ 2.5</text>\n<text text-anchor=\"start\" x=\"1795\" y=\"-124.8\" font-family=\"Helvetica,sans-Serif\" font-size=\"14.00\" fill=\"#000000\">entropy = 1.024</text>\n<text text-anchor=\"start\" x=\"1790\" y=\"-110.8\" font-family=\"Helvetica,sans-Serif\" font-size=\"14.00\" fill=\"#000000\">samples = 79801</text>\n<text text-anchor=\"start\" x=\"1723\" y=\"-96.8\" font-family=\"Helvetica,sans-Serif\" font-size=\"14.00\" fill=\"#000000\">value = [2561, 82, 7243, 6064, 63851]</text>\n</g>\n<!-- 9&#45;&gt;13 -->\n<g id=\"edge13\" class=\"edge\">\n<title>9&#45;&gt;13</title>\n<path fill=\"none\" stroke=\"#000000\" d=\"M1744.9647,-188.8089C1759.1879,-179.2632 1774.8953,-168.7213 1789.6011,-158.8516\"/>\n<polygon fill=\"#000000\" stroke=\"#000000\" points=\"1791.7723,-161.6097 1798.1252,-153.1308 1787.8714,-155.7973 1791.7723,-161.6097\"/>\n</g>\n<!-- 11 -->\n<g id=\"node12\" class=\"node\">\n<title>11</title>\n<polygon fill=\"none\" stroke=\"#000000\" points=\"1391.5,-53 1104.5,-53 1104.5,0 1391.5,0 1391.5,-53\"/>\n<text text-anchor=\"start\" x=\"1197\" y=\"-37.8\" font-family=\"Helvetica,sans-Serif\" font-size=\"14.00\" fill=\"#000000\">entropy = 0.401</text>\n<text text-anchor=\"start\" x=\"1187.5\" y=\"-22.8\" font-family=\"Helvetica,sans-Serif\" font-size=\"14.00\" fill=\"#000000\">samples = 291667</text>\n<text text-anchor=\"start\" x=\"1112.5\" y=\"-7.8\" font-family=\"Helvetica,sans-Serif\" font-size=\"14.00\" fill=\"#000000\">value = [2756, 127, 14238, 1176, 273370]</text>\n</g>\n<!-- 10&#45;&gt;11 -->\n<g id=\"edge11\" class=\"edge\">\n<title>10&#45;&gt;11</title>\n<path fill=\"none\" stroke=\"#000000\" d=\"M1446.6751,-88.8747C1412.8593,-78.2582 1375.4161,-66.5027 1342.2353,-56.0855\"/>\n<polygon fill=\"#000000\" stroke=\"#000000\" points=\"1343.1306,-52.6982 1332.5414,-53.0421 1341.0338,-59.3768 1343.1306,-52.6982\"/>\n</g>\n<!-- 12 -->\n<g id=\"node13\" class=\"node\">\n<title>12</title>\n<polygon fill=\"none\" stroke=\"#000000\" points=\"1696.5,-53 1409.5,-53 1409.5,0 1696.5,0 1696.5,-53\"/>\n<text text-anchor=\"start\" x=\"1502\" y=\"-37.8\" font-family=\"Helvetica,sans-Serif\" font-size=\"14.00\" fill=\"#000000\">entropy = 0.478</text>\n<text text-anchor=\"start\" x=\"1492.5\" y=\"-22.8\" font-family=\"Helvetica,sans-Serif\" font-size=\"14.00\" fill=\"#000000\">samples = 562376</text>\n<text text-anchor=\"start\" x=\"1417.5\" y=\"-7.8\" font-family=\"Helvetica,sans-Serif\" font-size=\"14.00\" fill=\"#000000\">value = [5385, 70, 21492, 13821, 521608]</text>\n</g>\n<!-- 10&#45;&gt;12 -->\n<g id=\"edge12\" class=\"edge\">\n<title>10&#45;&gt;12</title>\n<path fill=\"none\" stroke=\"#000000\" d=\"M1550.3654,-88.7428C1550.7091,-80.6222 1551.0807,-71.8426 1551.4335,-63.5093\"/>\n<polygon fill=\"#000000\" stroke=\"#000000\" points=\"1554.9405,-63.415 1551.8666,-53.2759 1547.9468,-63.1189 1554.9405,-63.415\"/>\n</g>\n<!-- 14 -->\n<g id=\"node15\" class=\"node\">\n<title>14</title>\n<polygon fill=\"none\" stroke=\"#000000\" points=\"1969,-53 1715,-53 1715,0 1969,0 1969,-53\"/>\n<text text-anchor=\"start\" x=\"1791\" y=\"-37.8\" font-family=\"Helvetica,sans-Serif\" font-size=\"14.00\" fill=\"#000000\">entropy = 0.717</text>\n<text text-anchor=\"start\" x=\"1786\" y=\"-22.8\" font-family=\"Helvetica,sans-Serif\" font-size=\"14.00\" fill=\"#000000\">samples = 37448</text>\n<text text-anchor=\"start\" x=\"1723\" y=\"-7.8\" font-family=\"Helvetica,sans-Serif\" font-size=\"14.00\" fill=\"#000000\">value = [1095, 51, 2953, 606, 32743]</text>\n</g>\n<!-- 13&#45;&gt;14 -->\n<g id=\"edge14\" class=\"edge\">\n<title>13&#45;&gt;14</title>\n<path fill=\"none\" stroke=\"#000000\" d=\"M1844.6346,-88.7428C1844.2909,-80.6222 1843.9193,-71.8426 1843.5665,-63.5093\"/>\n<polygon fill=\"#000000\" stroke=\"#000000\" points=\"1847.0532,-63.1189 1843.1334,-53.2759 1840.0595,-63.415 1847.0532,-63.1189\"/>\n</g>\n<!-- 15 -->\n<g id=\"node16\" class=\"node\">\n<title>15</title>\n<polygon fill=\"none\" stroke=\"#000000\" points=\"2249,-53 1987,-53 1987,0 2249,0 2249,-53\"/>\n<text text-anchor=\"start\" x=\"2067\" y=\"-37.8\" font-family=\"Helvetica,sans-Serif\" font-size=\"14.00\" fill=\"#000000\">entropy = 1.218</text>\n<text text-anchor=\"start\" x=\"2062\" y=\"-22.8\" font-family=\"Helvetica,sans-Serif\" font-size=\"14.00\" fill=\"#000000\">samples = 42353</text>\n<text text-anchor=\"start\" x=\"1995\" y=\"-7.8\" font-family=\"Helvetica,sans-Serif\" font-size=\"14.00\" fill=\"#000000\">value = [1466, 31, 4290, 5458, 31108]</text>\n</g>\n<!-- 13&#45;&gt;15 -->\n<g id=\"edge15\" class=\"edge\">\n<title>13&#45;&gt;15</title>\n<path fill=\"none\" stroke=\"#000000\" d=\"M1938.4663,-88.8747C1968.7618,-78.3493 2002.2792,-66.7045 2032.0709,-56.354\"/>\n<polygon fill=\"#000000\" stroke=\"#000000\" points=\"2033.3063,-59.6301 2041.6038,-53.0421 2031.009,-53.0178 2033.3063,-59.6301\"/>\n</g>\n<!-- 17 -->\n<g id=\"node18\" class=\"node\">\n<title>17</title>\n<polygon fill=\"none\" stroke=\"#000000\" points=\"2917,-253 2647,-253 2647,-189 2917,-189 2917,-253\"/>\n<text text-anchor=\"start\" x=\"2755.5\" y=\"-238.8\" font-family=\"Helvetica,sans-Serif\" font-size=\"14.00\" fill=\"#000000\">X</text>\n<text text-anchor=\"start\" x=\"2765.5\" y=\"-238.8\" font-family=\"Helvetica,sans-Serif\" baseline-shift=\"sub\" font-size=\"14.00\" fill=\"#000000\">6</text>\n<text text-anchor=\"start\" x=\"2772.5\" y=\"-238.8\" font-family=\"Helvetica,sans-Serif\" font-size=\"14.00\" fill=\"#000000\"> ≤ 0.5</text>\n<text text-anchor=\"start\" x=\"2731\" y=\"-224.8\" font-family=\"Helvetica,sans-Serif\" font-size=\"14.00\" fill=\"#000000\">entropy = 1.699</text>\n<text text-anchor=\"start\" x=\"2726\" y=\"-210.8\" font-family=\"Helvetica,sans-Serif\" font-size=\"14.00\" fill=\"#000000\">samples = 58820</text>\n<text text-anchor=\"start\" x=\"2655\" y=\"-196.8\" font-family=\"Helvetica,sans-Serif\" font-size=\"14.00\" fill=\"#000000\">value = [3307, 53, 8829, 26736, 19895]</text>\n</g>\n<!-- 16&#45;&gt;17 -->\n<g id=\"edge17\" class=\"edge\">\n<title>16&#45;&gt;17</title>\n<path fill=\"none\" stroke=\"#000000\" d=\"M2782,-288.8089C2782,-280.6906 2782,-271.8517 2782,-263.3186\"/>\n<polygon fill=\"#000000\" stroke=\"#000000\" points=\"2785.5001,-263.1307 2782,-253.1308 2778.5001,-263.1308 2785.5001,-263.1307\"/>\n</g>\n<!-- 24 -->\n<g id=\"node25\" class=\"node\">\n<title>24</title>\n<polygon fill=\"none\" stroke=\"#000000\" points=\"3657.5,-253 3370.5,-253 3370.5,-189 3657.5,-189 3657.5,-253\"/>\n<text text-anchor=\"start\" x=\"3487.5\" y=\"-238.8\" font-family=\"Helvetica,sans-Serif\" font-size=\"14.00\" fill=\"#000000\">X</text>\n<text text-anchor=\"start\" x=\"3497.5\" y=\"-238.8\" font-family=\"Helvetica,sans-Serif\" baseline-shift=\"sub\" font-size=\"14.00\" fill=\"#000000\">6</text>\n<text text-anchor=\"start\" x=\"3504.5\" y=\"-238.8\" font-family=\"Helvetica,sans-Serif\" font-size=\"14.00\" fill=\"#000000\"> ≤ 3.5</text>\n<text text-anchor=\"start\" x=\"3463\" y=\"-224.8\" font-family=\"Helvetica,sans-Serif\" font-size=\"14.00\" fill=\"#000000\">entropy = 1.974</text>\n<text text-anchor=\"start\" x=\"3458\" y=\"-210.8\" font-family=\"Helvetica,sans-Serif\" font-size=\"14.00\" fill=\"#000000\">samples = 45850</text>\n<text text-anchor=\"start\" x=\"3378.5\" y=\"-196.8\" font-family=\"Helvetica,sans-Serif\" font-size=\"14.00\" fill=\"#000000\">value = [12732, 3101, 6512, 3360, 20145]</text>\n</g>\n<!-- 16&#45;&gt;24 -->\n<g id=\"edge24\" class=\"edge\">\n<title>16&#45;&gt;24</title>\n<path fill=\"none\" stroke=\"#000000\" d=\"M2933.6709,-300.2799C3058.5359,-283.2219 3234.7884,-259.1437 3360.226,-242.0074\"/>\n<polygon fill=\"#000000\" stroke=\"#000000\" points=\"3360.869,-245.4521 3370.3032,-240.6307 3359.9214,-238.5166 3360.869,-245.4521\"/>\n</g>\n<!-- 18 -->\n<g id=\"node19\" class=\"node\">\n<title>18</title>\n<polygon fill=\"none\" stroke=\"#000000\" points=\"2775,-153 2513,-153 2513,-89 2775,-89 2775,-153\"/>\n<text text-anchor=\"start\" x=\"2617.5\" y=\"-138.8\" font-family=\"Helvetica,sans-Serif\" font-size=\"14.00\" fill=\"#000000\">X</text>\n<text text-anchor=\"start\" x=\"2627.5\" y=\"-138.8\" font-family=\"Helvetica,sans-Serif\" baseline-shift=\"sub\" font-size=\"14.00\" fill=\"#000000\">4</text>\n<text text-anchor=\"start\" x=\"2634.5\" y=\"-138.8\" font-family=\"Helvetica,sans-Serif\" font-size=\"14.00\" fill=\"#000000\"> ≤ 2.5</text>\n<text text-anchor=\"start\" x=\"2593\" y=\"-124.8\" font-family=\"Helvetica,sans-Serif\" font-size=\"14.00\" fill=\"#000000\">entropy = 1.564</text>\n<text text-anchor=\"start\" x=\"2588\" y=\"-110.8\" font-family=\"Helvetica,sans-Serif\" font-size=\"14.00\" fill=\"#000000\">samples = 30489</text>\n<text text-anchor=\"start\" x=\"2521\" y=\"-96.8\" font-family=\"Helvetica,sans-Serif\" font-size=\"14.00\" fill=\"#000000\">value = [2692, 31, 5265, 3802, 18699]</text>\n</g>\n<!-- 17&#45;&gt;18 -->\n<g id=\"edge18\" class=\"edge\">\n<title>17&#45;&gt;18</title>\n<path fill=\"none\" stroke=\"#000000\" d=\"M2737.5763,-188.8089C2724.5263,-179.3524 2710.1271,-168.9182 2696.6173,-159.1285\"/>\n<polygon fill=\"#000000\" stroke=\"#000000\" points=\"2698.4917,-156.1644 2688.3404,-153.1308 2694.3842,-161.8327 2698.4917,-156.1644\"/>\n</g>\n<!-- 21 -->\n<g id=\"node22\" class=\"node\">\n<title>21</title>\n<polygon fill=\"none\" stroke=\"#000000\" points=\"3047,-153 2793,-153 2793,-89 3047,-89 3047,-153\"/>\n<text text-anchor=\"start\" x=\"2893.5\" y=\"-138.8\" font-family=\"Helvetica,sans-Serif\" font-size=\"14.00\" fill=\"#000000\">X</text>\n<text text-anchor=\"start\" x=\"2903.5\" y=\"-138.8\" font-family=\"Helvetica,sans-Serif\" baseline-shift=\"sub\" font-size=\"14.00\" fill=\"#000000\">6</text>\n<text text-anchor=\"start\" x=\"2910.5\" y=\"-138.8\" font-family=\"Helvetica,sans-Serif\" font-size=\"14.00\" fill=\"#000000\"> ≤ 1.5</text>\n<text text-anchor=\"start\" x=\"2869\" y=\"-124.8\" font-family=\"Helvetica,sans-Serif\" font-size=\"14.00\" fill=\"#000000\">entropy = 0.944</text>\n<text text-anchor=\"start\" x=\"2864\" y=\"-110.8\" font-family=\"Helvetica,sans-Serif\" font-size=\"14.00\" fill=\"#000000\">samples = 28331</text>\n<text text-anchor=\"start\" x=\"2801\" y=\"-96.8\" font-family=\"Helvetica,sans-Serif\" font-size=\"14.00\" fill=\"#000000\">value = [615, 22, 3564, 22934, 1196]</text>\n</g>\n<!-- 17&#45;&gt;21 -->\n<g id=\"edge21\" class=\"edge\">\n<title>17&#45;&gt;21</title>\n<path fill=\"none\" stroke=\"#000000\" d=\"M2826.4237,-188.8089C2839.4737,-179.3524 2853.8729,-168.9182 2867.3827,-159.1285\"/>\n<polygon fill=\"#000000\" stroke=\"#000000\" points=\"2869.6158,-161.8327 2875.6596,-153.1308 2865.5083,-156.1644 2869.6158,-161.8327\"/>\n</g>\n<!-- 19 -->\n<g id=\"node20\" class=\"node\">\n<title>19</title>\n<polygon fill=\"none\" stroke=\"#000000\" points=\"2496.5,-53 2267.5,-53 2267.5,0 2496.5,0 2496.5,-53\"/>\n<text text-anchor=\"start\" x=\"2335\" y=\"-37.8\" font-family=\"Helvetica,sans-Serif\" font-size=\"14.00\" fill=\"#000000\">entropy = 1.27</text>\n<text text-anchor=\"start\" x=\"2330\" y=\"-22.8\" font-family=\"Helvetica,sans-Serif\" font-size=\"14.00\" fill=\"#000000\">samples = 8103</text>\n<text text-anchor=\"start\" x=\"2275.5\" y=\"-7.8\" font-family=\"Helvetica,sans-Serif\" font-size=\"14.00\" fill=\"#000000\">value = [332, 7, 2357, 221, 5186]</text>\n</g>\n<!-- 18&#45;&gt;19 -->\n<g id=\"edge19\" class=\"edge\">\n<title>18&#45;&gt;19</title>\n<path fill=\"none\" stroke=\"#000000\" d=\"M2554.9332,-88.8747C2525.8778,-78.3949 2493.7458,-66.8053 2465.1428,-56.4885\"/>\n<polygon fill=\"#000000\" stroke=\"#000000\" points=\"2466.1819,-53.1426 2455.5875,-53.0421 2463.8068,-59.7274 2466.1819,-53.1426\"/>\n</g>\n<!-- 20 -->\n<g id=\"node21\" class=\"node\">\n<title>20</title>\n<polygon fill=\"none\" stroke=\"#000000\" points=\"2777,-53 2515,-53 2515,0 2777,0 2777,-53\"/>\n<text text-anchor=\"start\" x=\"2595\" y=\"-37.8\" font-family=\"Helvetica,sans-Serif\" font-size=\"14.00\" fill=\"#000000\">entropy = 1.598</text>\n<text text-anchor=\"start\" x=\"2590\" y=\"-22.8\" font-family=\"Helvetica,sans-Serif\" font-size=\"14.00\" fill=\"#000000\">samples = 22386</text>\n<text text-anchor=\"start\" x=\"2523\" y=\"-7.8\" font-family=\"Helvetica,sans-Serif\" font-size=\"14.00\" fill=\"#000000\">value = [2360, 24, 2908, 3581, 13513]</text>\n</g>\n<!-- 18&#45;&gt;20 -->\n<g id=\"edge20\" class=\"edge\">\n<title>18&#45;&gt;20</title>\n<path fill=\"none\" stroke=\"#000000\" d=\"M2644.6827,-88.7428C2644.8546,-80.6222 2645.0404,-71.8426 2645.2167,-63.5093\"/>\n<polygon fill=\"#000000\" stroke=\"#000000\" points=\"2648.7208,-63.3477 2645.4333,-53.2759 2641.7224,-63.1995 2648.7208,-63.3477\"/>\n</g>\n<!-- 22 -->\n<g id=\"node23\" class=\"node\">\n<title>22</title>\n<polygon fill=\"none\" stroke=\"#000000\" points=\"3040.5,-53 2795.5,-53 2795.5,0 3040.5,0 3040.5,-53\"/>\n<text text-anchor=\"start\" x=\"2867\" y=\"-37.8\" font-family=\"Helvetica,sans-Serif\" font-size=\"14.00\" fill=\"#000000\">entropy = 0.688</text>\n<text text-anchor=\"start\" x=\"2862\" y=\"-22.8\" font-family=\"Helvetica,sans-Serif\" font-size=\"14.00\" fill=\"#000000\">samples = 26231</text>\n<text text-anchor=\"start\" x=\"2803.5\" y=\"-7.8\" font-family=\"Helvetica,sans-Serif\" font-size=\"14.00\" fill=\"#000000\">value = [390, 13, 3095, 22585, 148]</text>\n</g>\n<!-- 21&#45;&gt;22 -->\n<g id=\"edge22\" class=\"edge\">\n<title>21&#45;&gt;22</title>\n<path fill=\"none\" stroke=\"#000000\" d=\"M2919.3173,-88.7428C2919.1454,-80.6222 2918.9596,-71.8426 2918.7833,-63.5093\"/>\n<polygon fill=\"#000000\" stroke=\"#000000\" points=\"2922.2776,-63.1995 2918.5667,-53.2759 2915.2792,-63.3477 2922.2776,-63.1995\"/>\n</g>\n<!-- 23 -->\n<g id=\"node24\" class=\"node\">\n<title>23</title>\n<polygon fill=\"none\" stroke=\"#000000\" points=\"3279.5,-53 3058.5,-53 3058.5,0 3279.5,0 3279.5,-53\"/>\n<text text-anchor=\"start\" x=\"3118\" y=\"-37.8\" font-family=\"Helvetica,sans-Serif\" font-size=\"14.00\" fill=\"#000000\">entropy = 1.793</text>\n<text text-anchor=\"start\" x=\"3117\" y=\"-22.8\" font-family=\"Helvetica,sans-Serif\" font-size=\"14.00\" fill=\"#000000\">samples = 2100</text>\n<text text-anchor=\"start\" x=\"3066.5\" y=\"-7.8\" font-family=\"Helvetica,sans-Serif\" font-size=\"14.00\" fill=\"#000000\">value = [225, 9, 469, 349, 1048]</text>\n</g>\n<!-- 21&#45;&gt;23 -->\n<g id=\"edge23\" class=\"edge\">\n<title>21&#45;&gt;23</title>\n<path fill=\"none\" stroke=\"#000000\" d=\"M3004.6475,-88.8747C3032.1411,-78.4404 3062.5334,-66.906 3089.6278,-56.6232\"/>\n<polygon fill=\"#000000\" stroke=\"#000000\" points=\"3090.9564,-59.8626 3099.0638,-53.0421 3088.4725,-53.3181 3090.9564,-59.8626\"/>\n</g>\n<!-- 25 -->\n<g id=\"node26\" class=\"node\">\n<title>25</title>\n<polygon fill=\"none\" stroke=\"#000000\" points=\"3641,-153 3387,-153 3387,-89 3641,-89 3641,-153\"/>\n<text text-anchor=\"start\" x=\"3487.5\" y=\"-138.8\" font-family=\"Helvetica,sans-Serif\" font-size=\"14.00\" fill=\"#000000\">X</text>\n<text text-anchor=\"start\" x=\"3497.5\" y=\"-138.8\" font-family=\"Helvetica,sans-Serif\" baseline-shift=\"sub\" font-size=\"14.00\" fill=\"#000000\">8</text>\n<text text-anchor=\"start\" x=\"3504.5\" y=\"-138.8\" font-family=\"Helvetica,sans-Serif\" font-size=\"14.00\" fill=\"#000000\"> ≤ 0.5</text>\n<text text-anchor=\"start\" x=\"3463\" y=\"-124.8\" font-family=\"Helvetica,sans-Serif\" font-size=\"14.00\" fill=\"#000000\">entropy = 1.748</text>\n<text text-anchor=\"start\" x=\"3462\" y=\"-110.8\" font-family=\"Helvetica,sans-Serif\" font-size=\"14.00\" fill=\"#000000\">samples = 8133</text>\n<text text-anchor=\"start\" x=\"3395\" y=\"-96.8\" font-family=\"Helvetica,sans-Serif\" font-size=\"14.00\" fill=\"#000000\">value = [4437, 1851, 309, 374, 1162]</text>\n</g>\n<!-- 24&#45;&gt;25 -->\n<g id=\"edge25\" class=\"edge\">\n<title>24&#45;&gt;25</title>\n<path fill=\"none\" stroke=\"#000000\" d=\"M3514,-188.8089C3514,-180.6906 3514,-171.8517 3514,-163.3186\"/>\n<polygon fill=\"#000000\" stroke=\"#000000\" points=\"3517.5001,-163.1307 3514,-153.1308 3510.5001,-163.1308 3517.5001,-163.1307\"/>\n</g>\n<!-- 28 -->\n<g id=\"node29\" class=\"node\">\n<title>28</title>\n<polygon fill=\"none\" stroke=\"#000000\" points=\"4026,-153 3748,-153 3748,-89 4026,-89 4026,-153\"/>\n<text text-anchor=\"start\" x=\"3860.5\" y=\"-138.8\" font-family=\"Helvetica,sans-Serif\" font-size=\"14.00\" fill=\"#000000\">X</text>\n<text text-anchor=\"start\" x=\"3870.5\" y=\"-138.8\" font-family=\"Helvetica,sans-Serif\" baseline-shift=\"sub\" font-size=\"14.00\" fill=\"#000000\">8</text>\n<text text-anchor=\"start\" x=\"3877.5\" y=\"-138.8\" font-family=\"Helvetica,sans-Serif\" font-size=\"14.00\" fill=\"#000000\"> ≤ 0.5</text>\n<text text-anchor=\"start\" x=\"3840\" y=\"-124.8\" font-family=\"Helvetica,sans-Serif\" font-size=\"14.00\" fill=\"#000000\">entropy = 1.86</text>\n<text text-anchor=\"start\" x=\"3831\" y=\"-110.8\" font-family=\"Helvetica,sans-Serif\" font-size=\"14.00\" fill=\"#000000\">samples = 37717</text>\n<text text-anchor=\"start\" x=\"3756\" y=\"-96.8\" font-family=\"Helvetica,sans-Serif\" font-size=\"14.00\" fill=\"#000000\">value = [8295, 1250, 6203, 2986, 18983]</text>\n</g>\n<!-- 24&#45;&gt;28 -->\n<g id=\"edge28\" class=\"edge\">\n<title>24&#45;&gt;28</title>\n<path fill=\"none\" stroke=\"#000000\" d=\"M3633.5586,-188.9467C3673.1268,-178.3387 3717.3301,-166.4879 3757.602,-155.6912\"/>\n<polygon fill=\"#000000\" stroke=\"#000000\" points=\"3758.726,-159.0135 3767.4785,-153.0433 3756.9132,-152.2523 3758.726,-159.0135\"/>\n</g>\n<!-- 26 -->\n<g id=\"node27\" class=\"node\">\n<title>26</title>\n<polygon fill=\"none\" stroke=\"#000000\" points=\"3552,-53 3298,-53 3298,0 3552,0 3552,-53\"/>\n<text text-anchor=\"start\" x=\"3382.5\" y=\"-37.8\" font-family=\"Helvetica,sans-Serif\" font-size=\"14.00\" fill=\"#000000\">entropy = 1.8</text>\n<text text-anchor=\"start\" x=\"3373\" y=\"-22.8\" font-family=\"Helvetica,sans-Serif\" font-size=\"14.00\" fill=\"#000000\">samples = 7633</text>\n<text text-anchor=\"start\" x=\"3306\" y=\"-7.8\" font-family=\"Helvetica,sans-Serif\" font-size=\"14.00\" fill=\"#000000\">value = [3951, 1844, 309, 374, 1155]</text>\n</g>\n<!-- 25&#45;&gt;26 -->\n<g id=\"edge26\" class=\"edge\">\n<title>25&#45;&gt;26</title>\n<path fill=\"none\" stroke=\"#000000\" d=\"M3483.6202,-88.7428C3475.1225,-79.7199 3465.8584,-69.8834 3457.2563,-60.7496\"/>\n<polygon fill=\"#000000\" stroke=\"#000000\" points=\"3459.6215,-58.156 3450.2175,-53.2759 3454.5256,-62.9553 3459.6215,-58.156\"/>\n</g>\n<!-- 27 -->\n<g id=\"node28\" class=\"node\">\n<title>27</title>\n<polygon fill=\"none\" stroke=\"#000000\" points=\"3733.5,-53 3570.5,-53 3570.5,0 3733.5,0 3733.5,-53\"/>\n<text text-anchor=\"start\" x=\"3601\" y=\"-37.8\" font-family=\"Helvetica,sans-Serif\" font-size=\"14.00\" fill=\"#000000\">entropy = 0.212</text>\n<text text-anchor=\"start\" x=\"3604\" y=\"-22.8\" font-family=\"Helvetica,sans-Serif\" font-size=\"14.00\" fill=\"#000000\">samples = 500</text>\n<text text-anchor=\"start\" x=\"3578.5\" y=\"-7.8\" font-family=\"Helvetica,sans-Serif\" font-size=\"14.00\" fill=\"#000000\">value = [486, 7, 0, 0, 7]</text>\n</g>\n<!-- 25&#45;&gt;27 -->\n<g id=\"edge27\" class=\"edge\">\n<title>25&#45;&gt;27</title>\n<path fill=\"none\" stroke=\"#000000\" d=\"M3561.1058,-88.7428C3575.0726,-79.1786 3590.3745,-68.7001 3604.374,-59.1135\"/>\n<polygon fill=\"#000000\" stroke=\"#000000\" points=\"3606.6254,-61.8138 3612.8987,-53.2759 3602.6703,-56.0382 3606.6254,-61.8138\"/>\n</g>\n<!-- 29 -->\n<g id=\"node30\" class=\"node\">\n<title>29</title>\n<polygon fill=\"none\" stroke=\"#000000\" points=\"4022,-53 3752,-53 3752,0 4022,0 4022,-53\"/>\n<text text-anchor=\"start\" x=\"3836\" y=\"-37.8\" font-family=\"Helvetica,sans-Serif\" font-size=\"14.00\" fill=\"#000000\">entropy = 1.948</text>\n<text text-anchor=\"start\" x=\"3831\" y=\"-22.8\" font-family=\"Helvetica,sans-Serif\" font-size=\"14.00\" fill=\"#000000\">samples = 19380</text>\n<text text-anchor=\"start\" x=\"3760\" y=\"-7.8\" font-family=\"Helvetica,sans-Serif\" font-size=\"14.00\" fill=\"#000000\">value = [6309, 1186, 2164, 1588, 8133]</text>\n</g>\n<!-- 28&#45;&gt;29 -->\n<g id=\"edge29\" class=\"edge\">\n<title>28&#45;&gt;29</title>\n<path fill=\"none\" stroke=\"#000000\" d=\"M3887,-88.7428C3887,-80.6222 3887,-71.8426 3887,-63.5093\"/>\n<polygon fill=\"#000000\" stroke=\"#000000\" points=\"3890.5001,-63.2758 3887,-53.2759 3883.5001,-63.2759 3890.5001,-63.2758\"/>\n</g>\n<!-- 30 -->\n<g id=\"node31\" class=\"node\">\n<title>30</title>\n<polygon fill=\"none\" stroke=\"#000000\" points=\"4302,-53 4040,-53 4040,0 4302,0 4302,-53\"/>\n<text text-anchor=\"start\" x=\"4120\" y=\"-37.8\" font-family=\"Helvetica,sans-Serif\" font-size=\"14.00\" fill=\"#000000\">entropy = 1.588</text>\n<text text-anchor=\"start\" x=\"4115\" y=\"-22.8\" font-family=\"Helvetica,sans-Serif\" font-size=\"14.00\" fill=\"#000000\">samples = 18337</text>\n<text text-anchor=\"start\" x=\"4048\" y=\"-7.8\" font-family=\"Helvetica,sans-Serif\" font-size=\"14.00\" fill=\"#000000\">value = [1986, 64, 4039, 1398, 10850]</text>\n</g>\n<!-- 28&#45;&gt;30 -->\n<g id=\"edge30\" class=\"edge\">\n<title>28&#45;&gt;30</title>\n<path fill=\"none\" stroke=\"#000000\" d=\"M3983.5457,-88.8747C4015.3147,-78.3037 4050.477,-66.6036 4081.6837,-56.2197\"/>\n<polygon fill=\"#000000\" stroke=\"#000000\" points=\"4082.85,-59.5204 4091.2334,-53.0421 4080.6398,-52.8784 4082.85,-59.5204\"/>\n</g>\n</g>\n</svg>\n"
          },
          "metadata": {},
          "execution_count": 41
        }
      ],
      "source": [
        "dot_data = tree.export_graphviz(clf_best.best_estimator_, out_file=None,  \n",
        "                     special_characters=True)  \n",
        "graph = graphviz.Source(dot_data)  \n",
        "graph "
      ]
    },
    {
      "cell_type": "markdown",
      "metadata": {
        "id": "XZ4_7xybUfXH"
      },
      "source": [
        "**Обучим модель с наилучшими параметрами и сравним её с прошлым вариантом модели**"
      ]
    },
    {
      "cell_type": "code",
      "execution_count": 42,
      "metadata": {
        "id": "3PPZE0HSUtIQ",
        "colab": {
          "base_uri": "https://localhost:8080/"
        },
        "outputId": "81f79428-08f3-49e6-965b-a5f6610db4e0"
      },
      "outputs": [
        {
          "output_type": "stream",
          "name": "stdout",
          "text": [
            "Accuracy: 0.8825474143724916\n"
          ]
        }
      ],
      "source": [
        "y_pred_best = clf_best.predict(X_test[cols_withot_ids])\n",
        "print(\"Accuracy:\",metrics.accuracy_score(y_test, y_pred_best))"
      ]
    },
    {
      "cell_type": "markdown",
      "source": [
        "**Перейдем от классификации транзакций к классификации абонентов**"
      ],
      "metadata": {
        "id": "is2IWFvMcJH6"
      }
    },
    {
      "cell_type": "code",
      "source": [
        "print(X_test.shape)\n",
        "X_test['target'] = y_pred_best\n",
        "print(X_test.shape)"
      ],
      "metadata": {
        "colab": {
          "base_uri": "https://localhost:8080/"
        },
        "id": "TOX11ulhu3Gv",
        "outputId": "6650b7a8-d61a-4f0b-9b50-2b1fac822d8e"
      },
      "execution_count": 43,
      "outputs": [
        {
          "output_type": "stream",
          "name": "stdout",
          "text": [
            "(312458, 11)\n",
            "(312458, 12)\n"
          ]
        }
      ]
    },
    {
      "cell_type": "code",
      "source": [
        "dataIds = [x for _, x in X_test.groupby(data['id_a'])]\n",
        "for i in dataIds:\n",
        "  estimates = i['target'].value_counts()\n",
        "  i['target'] = estimates.idxmax()"
      ],
      "metadata": {
        "id": "WTOOLPbycScm"
      },
      "execution_count": 44,
      "outputs": []
    },
    {
      "cell_type": "markdown",
      "metadata": {
        "id": "CMAcsCBZFbg7"
      },
      "source": [
        "<div class=\"alert alert-warning\", style=\"border:solid coral 3px; padding: 20px\">\n",
        "    <font size=\"4\", color=\"DimGrey\"><b>⚠️ Комментарий ревьюера</b></font>\n",
        "    <br><br>\n",
        "    <font size=\"3\", color=\"black\">\n",
        "        Сейчас ты классифицируешь транзакции, а задача - классифицировать абонентов. Получается, что для одного абонента может быть несколько транзакций с разными предсказанными классами. Далее нужно на основе предсказаний транзакций сделать предсказание для абонента. Это можно сделать 2 способами: 1) жёсткое голосование (обычное), 2) мягкое голосование, то есть усредняются вероятности классов по всем транзакциям и выбирается класс с наибольшей вероятностью.\n",
        "    </font>\n",
        "<div>"
      ]
    }
  ],
  "metadata": {
    "colab": {
      "provenance": []
    },
    "kernelspec": {
      "display_name": "Python 3.10.5 64-bit",
      "language": "python",
      "name": "python3"
    },
    "language_info": {
      "codemirror_mode": {
        "name": "ipython",
        "version": 3
      },
      "file_extension": ".py",
      "mimetype": "text/x-python",
      "name": "python",
      "nbconvert_exporter": "python",
      "pygments_lexer": "ipython3",
      "version": "3.10.5"
    },
    "vscode": {
      "interpreter": {
        "hash": "767d51c1340bd893661ea55ea3124f6de3c7a262a8b4abca0554b478b1e2ff90"
      }
    }
  },
  "nbformat": 4,
  "nbformat_minor": 0
}